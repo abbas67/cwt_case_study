{
 "cells": [
  {
   "cell_type": "code",
   "execution_count": 1,
   "id": "22f6f216",
   "metadata": {},
   "outputs": [
    {
     "name": "stdout",
     "output_type": "stream",
     "text": [
      "Requirement already satisfied: spacy in ./venv/lib/python3.7/site-packages (3.4.3)\r\n",
      "Requirement already satisfied: setuptools in ./venv/lib/python3.7/site-packages (from spacy) (60.2.0)\r\n",
      "Requirement already satisfied: pydantic!=1.8,!=1.8.1,<1.11.0,>=1.7.4 in ./venv/lib/python3.7/site-packages (from spacy) (1.10.2)\r\n",
      "Requirement already satisfied: spacy-loggers<2.0.0,>=1.0.0 in ./venv/lib/python3.7/site-packages (from spacy) (1.0.3)\r\n",
      "Requirement already satisfied: pathy>=0.3.5 in ./venv/lib/python3.7/site-packages (from spacy) (0.8.1)\r\n",
      "Requirement already satisfied: typer<0.8.0,>=0.3.0 in ./venv/lib/python3.7/site-packages (from spacy) (0.7.0)\r\n",
      "Requirement already satisfied: requests<3.0.0,>=2.13.0 in ./venv/lib/python3.7/site-packages (from spacy) (2.28.1)\r\n",
      "Requirement already satisfied: packaging>=20.0 in ./venv/lib/python3.7/site-packages (from spacy) (21.3)\r\n",
      "Requirement already satisfied: murmurhash<1.1.0,>=0.28.0 in ./venv/lib/python3.7/site-packages (from spacy) (1.0.9)\r\n",
      "Requirement already satisfied: cymem<2.1.0,>=2.0.2 in ./venv/lib/python3.7/site-packages (from spacy) (2.0.7)\r\n",
      "Requirement already satisfied: numpy>=1.15.0 in ./venv/lib/python3.7/site-packages (from spacy) (1.21.6)\r\n",
      "Requirement already satisfied: thinc<8.2.0,>=8.1.0 in ./venv/lib/python3.7/site-packages (from spacy) (8.1.5)\r\n",
      "Requirement already satisfied: preshed<3.1.0,>=3.0.2 in ./venv/lib/python3.7/site-packages (from spacy) (3.0.8)\r\n",
      "Requirement already satisfied: tqdm<5.0.0,>=4.38.0 in ./venv/lib/python3.7/site-packages (from spacy) (4.64.1)\r\n",
      "Requirement already satisfied: typing-extensions<4.2.0,>=3.7.4 in ./venv/lib/python3.7/site-packages (from spacy) (4.1.1)\r\n",
      "Requirement already satisfied: jinja2 in ./venv/lib/python3.7/site-packages (from spacy) (3.1.2)\r\n",
      "Requirement already satisfied: wasabi<1.1.0,>=0.9.1 in ./venv/lib/python3.7/site-packages (from spacy) (0.10.1)\r\n",
      "Requirement already satisfied: srsly<3.0.0,>=2.4.3 in ./venv/lib/python3.7/site-packages (from spacy) (2.4.5)\r\n",
      "Requirement already satisfied: spacy-legacy<3.1.0,>=3.0.10 in ./venv/lib/python3.7/site-packages (from spacy) (3.0.10)\r\n",
      "Requirement already satisfied: langcodes<4.0.0,>=3.2.0 in ./venv/lib/python3.7/site-packages (from spacy) (3.3.0)\r\n",
      "Requirement already satisfied: catalogue<2.1.0,>=2.0.6 in ./venv/lib/python3.7/site-packages (from spacy) (2.0.8)\r\n",
      "Requirement already satisfied: zipp>=0.5 in ./venv/lib/python3.7/site-packages (from catalogue<2.1.0,>=2.0.6->spacy) (3.10.0)\r\n",
      "Requirement already satisfied: pyparsing!=3.0.5,>=2.0.2 in ./venv/lib/python3.7/site-packages (from packaging>=20.0->spacy) (3.0.9)\r\n",
      "Requirement already satisfied: smart-open<6.0.0,>=5.2.1 in ./venv/lib/python3.7/site-packages (from pathy>=0.3.5->spacy) (5.2.1)\r\n",
      "Requirement already satisfied: certifi>=2017.4.17 in ./venv/lib/python3.7/site-packages (from requests<3.0.0,>=2.13.0->spacy) (2022.9.24)\r\n",
      "Requirement already satisfied: urllib3<1.27,>=1.21.1 in ./venv/lib/python3.7/site-packages (from requests<3.0.0,>=2.13.0->spacy) (1.26.12)\r\n",
      "Requirement already satisfied: charset-normalizer<3,>=2 in ./venv/lib/python3.7/site-packages (from requests<3.0.0,>=2.13.0->spacy) (2.1.1)\r\n",
      "Requirement already satisfied: idna<4,>=2.5 in ./venv/lib/python3.7/site-packages (from requests<3.0.0,>=2.13.0->spacy) (3.4)\r\n",
      "Requirement already satisfied: confection<1.0.0,>=0.0.1 in ./venv/lib/python3.7/site-packages (from thinc<8.2.0,>=8.1.0->spacy) (0.0.3)\r\n",
      "Requirement already satisfied: blis<0.8.0,>=0.7.8 in ./venv/lib/python3.7/site-packages (from thinc<8.2.0,>=8.1.0->spacy) (0.7.9)\r\n",
      "Requirement already satisfied: click<9.0.0,>=7.1.1 in ./venv/lib/python3.7/site-packages (from typer<0.8.0,>=0.3.0->spacy) (8.1.3)\r\n",
      "Requirement already satisfied: MarkupSafe>=2.0 in ./venv/lib/python3.7/site-packages (from jinja2->spacy) (2.1.1)\r\n",
      "Requirement already satisfied: importlib-metadata in ./venv/lib/python3.7/site-packages (from click<9.0.0,>=7.1.1->typer<0.8.0,>=0.3.0->spacy) (5.0.0)\r\n",
      "\u001B[33mWARNING: You are using pip version 21.3.1; however, version 22.3.1 is available.\r\n",
      "You should consider upgrading via the '/Users/abbaslawal/workspace/cwt_case_study/venv/bin/python -m pip install --upgrade pip' command.\u001B[0m\r\n",
      "Collecting en-core-web-sm==3.4.1\r\n",
      "  Downloading https://github.com/explosion/spacy-models/releases/download/en_core_web_sm-3.4.1/en_core_web_sm-3.4.1-py3-none-any.whl (12.8 MB)\r\n",
      "     |████████████████████████████████| 12.8 MB 9.4 MB/s            \r\n",
      "\u001B[?25hRequirement already satisfied: spacy<3.5.0,>=3.4.0 in ./venv/lib/python3.7/site-packages (from en-core-web-sm==3.4.1) (3.4.3)\r\n",
      "Requirement already satisfied: spacy-legacy<3.1.0,>=3.0.10 in ./venv/lib/python3.7/site-packages (from spacy<3.5.0,>=3.4.0->en-core-web-sm==3.4.1) (3.0.10)\r\n",
      "Requirement already satisfied: preshed<3.1.0,>=3.0.2 in ./venv/lib/python3.7/site-packages (from spacy<3.5.0,>=3.4.0->en-core-web-sm==3.4.1) (3.0.8)\r\n",
      "Requirement already satisfied: pathy>=0.3.5 in ./venv/lib/python3.7/site-packages (from spacy<3.5.0,>=3.4.0->en-core-web-sm==3.4.1) (0.8.1)\r\n",
      "Requirement already satisfied: thinc<8.2.0,>=8.1.0 in ./venv/lib/python3.7/site-packages (from spacy<3.5.0,>=3.4.0->en-core-web-sm==3.4.1) (8.1.5)\r\n",
      "Requirement already satisfied: wasabi<1.1.0,>=0.9.1 in ./venv/lib/python3.7/site-packages (from spacy<3.5.0,>=3.4.0->en-core-web-sm==3.4.1) (0.10.1)\r\n",
      "Requirement already satisfied: requests<3.0.0,>=2.13.0 in ./venv/lib/python3.7/site-packages (from spacy<3.5.0,>=3.4.0->en-core-web-sm==3.4.1) (2.28.1)\r\n",
      "Requirement already satisfied: typer<0.8.0,>=0.3.0 in ./venv/lib/python3.7/site-packages (from spacy<3.5.0,>=3.4.0->en-core-web-sm==3.4.1) (0.7.0)\r\n",
      "Requirement already satisfied: catalogue<2.1.0,>=2.0.6 in ./venv/lib/python3.7/site-packages (from spacy<3.5.0,>=3.4.0->en-core-web-sm==3.4.1) (2.0.8)\r\n",
      "Requirement already satisfied: spacy-loggers<2.0.0,>=1.0.0 in ./venv/lib/python3.7/site-packages (from spacy<3.5.0,>=3.4.0->en-core-web-sm==3.4.1) (1.0.3)\r\n",
      "Requirement already satisfied: langcodes<4.0.0,>=3.2.0 in ./venv/lib/python3.7/site-packages (from spacy<3.5.0,>=3.4.0->en-core-web-sm==3.4.1) (3.3.0)\r\n",
      "Requirement already satisfied: setuptools in ./venv/lib/python3.7/site-packages (from spacy<3.5.0,>=3.4.0->en-core-web-sm==3.4.1) (60.2.0)\r\n",
      "Requirement already satisfied: srsly<3.0.0,>=2.4.3 in ./venv/lib/python3.7/site-packages (from spacy<3.5.0,>=3.4.0->en-core-web-sm==3.4.1) (2.4.5)\r\n",
      "Requirement already satisfied: jinja2 in ./venv/lib/python3.7/site-packages (from spacy<3.5.0,>=3.4.0->en-core-web-sm==3.4.1) (3.1.2)\r\n",
      "Requirement already satisfied: numpy>=1.15.0 in ./venv/lib/python3.7/site-packages (from spacy<3.5.0,>=3.4.0->en-core-web-sm==3.4.1) (1.21.6)\r\n",
      "Requirement already satisfied: packaging>=20.0 in ./venv/lib/python3.7/site-packages (from spacy<3.5.0,>=3.4.0->en-core-web-sm==3.4.1) (21.3)\r\n",
      "Requirement already satisfied: typing-extensions<4.2.0,>=3.7.4 in ./venv/lib/python3.7/site-packages (from spacy<3.5.0,>=3.4.0->en-core-web-sm==3.4.1) (4.1.1)\r\n",
      "Requirement already satisfied: tqdm<5.0.0,>=4.38.0 in ./venv/lib/python3.7/site-packages (from spacy<3.5.0,>=3.4.0->en-core-web-sm==3.4.1) (4.64.1)\r\n",
      "Requirement already satisfied: cymem<2.1.0,>=2.0.2 in ./venv/lib/python3.7/site-packages (from spacy<3.5.0,>=3.4.0->en-core-web-sm==3.4.1) (2.0.7)\r\n",
      "Requirement already satisfied: pydantic!=1.8,!=1.8.1,<1.11.0,>=1.7.4 in ./venv/lib/python3.7/site-packages (from spacy<3.5.0,>=3.4.0->en-core-web-sm==3.4.1) (1.10.2)\r\n",
      "Requirement already satisfied: murmurhash<1.1.0,>=0.28.0 in ./venv/lib/python3.7/site-packages (from spacy<3.5.0,>=3.4.0->en-core-web-sm==3.4.1) (1.0.9)\r\n",
      "Requirement already satisfied: zipp>=0.5 in ./venv/lib/python3.7/site-packages (from catalogue<2.1.0,>=2.0.6->spacy<3.5.0,>=3.4.0->en-core-web-sm==3.4.1) (3.10.0)\r\n",
      "Requirement already satisfied: pyparsing!=3.0.5,>=2.0.2 in ./venv/lib/python3.7/site-packages (from packaging>=20.0->spacy<3.5.0,>=3.4.0->en-core-web-sm==3.4.1) (3.0.9)\r\n",
      "Requirement already satisfied: smart-open<6.0.0,>=5.2.1 in ./venv/lib/python3.7/site-packages (from pathy>=0.3.5->spacy<3.5.0,>=3.4.0->en-core-web-sm==3.4.1) (5.2.1)\r\n",
      "Requirement already satisfied: urllib3<1.27,>=1.21.1 in ./venv/lib/python3.7/site-packages (from requests<3.0.0,>=2.13.0->spacy<3.5.0,>=3.4.0->en-core-web-sm==3.4.1) (1.26.12)\r\n",
      "Requirement already satisfied: charset-normalizer<3,>=2 in ./venv/lib/python3.7/site-packages (from requests<3.0.0,>=2.13.0->spacy<3.5.0,>=3.4.0->en-core-web-sm==3.4.1) (2.1.1)\r\n",
      "Requirement already satisfied: idna<4,>=2.5 in ./venv/lib/python3.7/site-packages (from requests<3.0.0,>=2.13.0->spacy<3.5.0,>=3.4.0->en-core-web-sm==3.4.1) (3.4)\r\n",
      "Requirement already satisfied: certifi>=2017.4.17 in ./venv/lib/python3.7/site-packages (from requests<3.0.0,>=2.13.0->spacy<3.5.0,>=3.4.0->en-core-web-sm==3.4.1) (2022.9.24)\r\n",
      "Requirement already satisfied: confection<1.0.0,>=0.0.1 in ./venv/lib/python3.7/site-packages (from thinc<8.2.0,>=8.1.0->spacy<3.5.0,>=3.4.0->en-core-web-sm==3.4.1) (0.0.3)\r\n",
      "Requirement already satisfied: blis<0.8.0,>=0.7.8 in ./venv/lib/python3.7/site-packages (from thinc<8.2.0,>=8.1.0->spacy<3.5.0,>=3.4.0->en-core-web-sm==3.4.1) (0.7.9)\r\n",
      "Requirement already satisfied: click<9.0.0,>=7.1.1 in ./venv/lib/python3.7/site-packages (from typer<0.8.0,>=0.3.0->spacy<3.5.0,>=3.4.0->en-core-web-sm==3.4.1) (8.1.3)\r\n",
      "Requirement already satisfied: MarkupSafe>=2.0 in ./venv/lib/python3.7/site-packages (from jinja2->spacy<3.5.0,>=3.4.0->en-core-web-sm==3.4.1) (2.1.1)\r\n",
      "Requirement already satisfied: importlib-metadata in ./venv/lib/python3.7/site-packages (from click<9.0.0,>=7.1.1->typer<0.8.0,>=0.3.0->spacy<3.5.0,>=3.4.0->en-core-web-sm==3.4.1) (5.0.0)\r\n",
      "\u001B[33mWARNING: You are using pip version 21.3.1; however, version 22.3.1 is available.\r\n",
      "You should consider upgrading via the '/Users/abbaslawal/workspace/cwt_case_study/venv/bin/python -m pip install --upgrade pip' command.\u001B[0m\r\n",
      "\u001B[38;5;2m✔ Download and installation successful\u001B[0m\r\n",
      "You can now load the package via spacy.load('en_core_web_sm')\r\n",
      "Requirement already satisfied: nltk in ./venv/lib/python3.7/site-packages (3.7)\r\n",
      "Requirement already satisfied: regex>=2021.8.3 in ./venv/lib/python3.7/site-packages (from nltk) (2022.10.31)\r\n",
      "Requirement already satisfied: click in ./venv/lib/python3.7/site-packages (from nltk) (8.1.3)\r\n",
      "Requirement already satisfied: joblib in ./venv/lib/python3.7/site-packages (from nltk) (1.2.0)\r\n",
      "Requirement already satisfied: tqdm in ./venv/lib/python3.7/site-packages (from nltk) (4.64.1)\r\n",
      "Requirement already satisfied: importlib-metadata in ./venv/lib/python3.7/site-packages (from click->nltk) (5.0.0)\r\n",
      "Requirement already satisfied: typing-extensions>=3.6.4 in ./venv/lib/python3.7/site-packages (from importlib-metadata->click->nltk) (4.1.1)\r\n",
      "Requirement already satisfied: zipp>=0.5 in ./venv/lib/python3.7/site-packages (from importlib-metadata->click->nltk) (3.10.0)\r\n",
      "\u001B[33mWARNING: You are using pip version 21.3.1; however, version 22.3.1 is available.\r\n",
      "You should consider upgrading via the '/Users/abbaslawal/workspace/cwt_case_study/venv/bin/python -m pip install --upgrade pip' command.\u001B[0m\r\n",
      "Requirement already satisfied: scikit-learn in ./venv/lib/python3.7/site-packages (1.0.2)\r\n",
      "Requirement already satisfied: scipy>=1.1.0 in ./venv/lib/python3.7/site-packages (from scikit-learn) (1.7.3)\r\n",
      "Requirement already satisfied: joblib>=0.11 in ./venv/lib/python3.7/site-packages (from scikit-learn) (1.2.0)\r\n",
      "Requirement already satisfied: numpy>=1.14.6 in ./venv/lib/python3.7/site-packages (from scikit-learn) (1.21.6)\r\n",
      "Requirement already satisfied: threadpoolctl>=2.0.0 in ./venv/lib/python3.7/site-packages (from scikit-learn) (3.1.0)\r\n",
      "\u001B[33mWARNING: You are using pip version 21.3.1; however, version 22.3.1 is available.\r\n",
      "You should consider upgrading via the '/Users/abbaslawal/workspace/cwt_case_study/venv/bin/python -m pip install --upgrade pip' command.\u001B[0m\r\n",
      "Requirement already satisfied: pandas in ./venv/lib/python3.7/site-packages (1.3.5)\r\n",
      "Requirement already satisfied: python-dateutil>=2.7.3 in ./venv/lib/python3.7/site-packages (from pandas) (2.8.2)\r\n",
      "Requirement already satisfied: numpy>=1.17.3 in ./venv/lib/python3.7/site-packages (from pandas) (1.21.6)\r\n",
      "Requirement already satisfied: pytz>=2017.3 in ./venv/lib/python3.7/site-packages (from pandas) (2022.6)\r\n",
      "Requirement already satisfied: six>=1.5 in ./venv/lib/python3.7/site-packages (from python-dateutil>=2.7.3->pandas) (1.16.0)\r\n",
      "\u001B[33mWARNING: You are using pip version 21.3.1; however, version 22.3.1 is available.\r\n",
      "You should consider upgrading via the '/Users/abbaslawal/workspace/cwt_case_study/venv/bin/python -m pip install --upgrade pip' command.\u001B[0m\r\n",
      "Requirement already satisfied: tqdm in ./venv/lib/python3.7/site-packages (4.64.1)\r\n",
      "\u001B[33mWARNING: You are using pip version 21.3.1; however, version 22.3.1 is available.\r\n",
      "You should consider upgrading via the '/Users/abbaslawal/workspace/cwt_case_study/venv/bin/python -m pip install --upgrade pip' command.\u001B[0m\r\n",
      "Requirement already satisfied: numpy in ./venv/lib/python3.7/site-packages (1.21.6)\r\n",
      "\u001B[33mWARNING: You are using pip version 21.3.1; however, version 22.3.1 is available.\r\n",
      "You should consider upgrading via the '/Users/abbaslawal/workspace/cwt_case_study/venv/bin/python -m pip install --upgrade pip' command.\u001B[0m\r\n"
     ]
    }
   ],
   "source": [
    "import os.path\n",
    "!pip install spacy\n",
    "!python -m spacy download en_core_web_sm\n",
    "!pip install nltk\n",
    "!pip install scikit-learn\n",
    "!pip install pandas\n",
    "!pip install tqdm\n",
    "!pip install numpy"
   ]
  },
  {
   "cell_type": "code",
   "execution_count": 2,
   "id": "579b93ff",
   "metadata": {},
   "outputs": [],
   "source": [
    "try:\n",
    "    from nltk.tokenize import TweetTokenizer\n",
    "    from nltk.corpus import stopwords\n",
    "    from nltk.stem import WordNetLemmatizer\n",
    "    from nltk import word_tokenize, FreqDist\n",
    "except ImportError:\n",
    "    nltk.download('omw-1.4')\n",
    "    nltk.download('wordnet')\n",
    "    nltk.download('stopwords')\n",
    "    from nltk.tokenize import TweetTokenizer\n",
    "    from nltk.corpus import stopwords\n",
    "    from nltk.stem import WordNetLemmatizer\n",
    "    from nltk import word_tokenize, FreqDist\n",
    "   \n",
    "import spacy\n",
    "import re\n",
    "import os\n",
    "import pandas as pd"
   ]
  },
  {
   "cell_type": "code",
   "execution_count": 3,
   "id": "dac0a1e1",
   "metadata": {},
   "outputs": [],
   "source": [
    "from sklearn.feature_extraction.text import CountVectorizer\n",
    "from sklearn.model_selection import train_test_split\n",
    "from sklearn.linear_model import LogisticRegression\n",
    "from sklearn.naive_bayes import MultinomialNB\n",
    "from sklearn.metrics import roc_curve, auc\n",
    "from sklearn.neural_network import MLPClassifier\n",
    "from sklearn.svm import SVC\n",
    "from sklearn.metrics import confusion_matrix"
   ]
  },
  {
   "cell_type": "code",
   "execution_count": 4,
   "id": "40184730",
   "metadata": {},
   "outputs": [],
   "source": [
    "import warnings\n",
    "warnings.filterwarnings('ignore')\n",
    "\n",
    "from cwt_case_study.pre_processor import NltkPreProcessor"
   ]
  },
  {
   "cell_type": "markdown",
   "id": "aa435589",
   "metadata": {},
   "source": [
    "# Task 1\n",
    "\n",
    "We have a ML model that takes as input a sentence and returns a label. Our Head of Data Science, defined the methods that should be performed to pre-process the input/text/sentence and wants you the developer to publish a library that that implements the following methods.\n",
    "\n",
    "- Remove digits\n",
    "- Lowercase\n",
    "- Remove puncuations\n",
    "- Remove stopwords\n",
    "- Get the lemma for each word\n",
    "\n",
    "\n",
    "This library will be re-used by our Data Scientists. So they might want to reuse the methods from the base model or implement new ones.\n",
    "\n",
    "<b>Your task is the following:</b>\n",
    "* refactor the code bellow and create a base class and other classes that will inherit and implement the functions defined bellow. \n",
    "* Make sure your base model should enforce those methods so if any data scientist wants to reuse your code, you must make sure that they implement those functions\n",
    "\n",
    "\n",
    "Please note, in the code bellow you will find 3 sections\n",
    "* General Methods\n",
    "* NLTK Methods\n",
    "* Spacy Methods\n",
    "\n",
    "General methods are written using plain Python and we use NLTK and Spacy methods only for removing stopwords and lemmatising the words. Make sure you reflect those libraries as well in your implementation. Our Data Scientist will have the freedom to choose a pre-processor based on the library of their choise. \n",
    "For instance, if we choose to use Spacy, the methods remove stopwords and lematise should be implemented by that library specifically."
   ]
  },
  {
   "cell_type": "markdown",
   "id": "1c8374f3",
   "metadata": {},
   "source": [
    "## General Methods"
   ]
  },
  {
   "cell_type": "code",
   "execution_count": 5,
   "id": "7acb6115",
   "metadata": {},
   "outputs": [],
   "source": [
    "text = \"Hello, how are you today? I hope you don't find this case study too dificult!\"\n",
    "# Remove digits\n",
    "text = text.lower()\n",
    "# Lowercase\n",
    "text = re.sub(r'\\d+', '', text)\n",
    "# Remove puncuations\n",
    "text =  re.sub(r'[^\\w\\s]', '', text)\n"
   ]
  },
  {
   "cell_type": "code",
   "execution_count": 6,
   "id": "f32dd052",
   "metadata": {},
   "outputs": [
    {
     "data": {
      "text/plain": "'hello how are you today i hope you dont find this case study too dificult'"
     },
     "execution_count": 6,
     "metadata": {},
     "output_type": "execute_result"
    }
   ],
   "source": [
    "text"
   ]
  },
  {
   "cell_type": "markdown",
   "id": "dcb45970",
   "metadata": {},
   "source": [
    "## NLTK Methods"
   ]
  },
  {
   "cell_type": "code",
   "execution_count": 7,
   "id": "eca44ece",
   "metadata": {},
   "outputs": [
    {
     "data": {
      "text/plain": "'hello today hope dont find case study dificult'"
     },
     "execution_count": 7,
     "metadata": {},
     "output_type": "execute_result"
    }
   ],
   "source": [
    "# text = \"Hello, how are you today? I hope you don't find this case study too dificult!\"\n",
    "\n",
    "# Remove stopwords\n",
    "text = \" \".join([w for w in text.split() if w not in set(stopwords.words(\"english\"))])\n",
    "# Get the lemma for each word\n",
    "text = \" \".join([WordNetLemmatizer().lemmatize(w) for w in text.split()])\n",
    "\n",
    "text"
   ]
  },
  {
   "cell_type": "markdown",
   "id": "a0dba6ec",
   "metadata": {},
   "source": [
    "## Spacy Methods\n"
   ]
  },
  {
   "cell_type": "code",
   "execution_count": 8,
   "id": "93e30145",
   "metadata": {},
   "outputs": [],
   "source": [
    "## General methods \n",
    "text = \"Hello, how are you today? I hope you don't find this case study too dificult!\"\n",
    "# Remove digits\n",
    "text = text.lower()\n",
    "# Lowercase\n",
    "text = re.sub(r'\\d+', '', text)\n",
    "# Remove puncuations\n",
    "text =  re.sub(r'[^\\w\\s]', '', text)"
   ]
  },
  {
   "cell_type": "code",
   "execution_count": 9,
   "id": "5f31e0f1",
   "metadata": {},
   "outputs": [],
   "source": [
    "nlp = spacy.load(\"en_core_web_sm\", disable=[\"tok2vec\", \"textcat\", \"ner\"])\n",
    "\n",
    "text = \"Hello, how are you today? I hope you don't find this case study too dificult!\"\n",
    "doc = nlp(text)\n"
   ]
  },
  {
   "cell_type": "code",
   "execution_count": 10,
   "id": "a4c86b5f",
   "metadata": {},
   "outputs": [],
   "source": [
    "# Remove stopwords\n",
    "doc = [token for token in doc if not token.is_stop]\n",
    "# Get the lemma for each word\n",
    "doc = [str(token.lemma_) for token in doc ]\n",
    "doc = \" \".join(doc)"
   ]
  },
  {
   "cell_type": "code",
   "execution_count": 11,
   "id": "62b4945d",
   "metadata": {},
   "outputs": [
    {
     "data": {
      "text/plain": "'hello , today ? hope find case study dificult !'"
     },
     "execution_count": 11,
     "metadata": {},
     "output_type": "execute_result"
    }
   ],
   "source": [
    "doc"
   ]
  },
  {
   "cell_type": "code",
   "execution_count": 11,
   "id": "30f36580",
   "metadata": {},
   "outputs": [],
   "source": []
  },
  {
   "cell_type": "markdown",
   "id": "20e23ed5",
   "metadata": {},
   "source": [
    "# Training the model\n",
    "\n",
    "Bellow you can find the code we used to train a basic model. The only thing you can change here is the pre-proseesing methods used to clean the 'Review Text' column. You can use your own PreProcessor created from Task 1. \n"
   ]
  },
  {
   "cell_type": "code",
   "execution_count": 12,
   "id": "3c590f5d",
   "metadata": {},
   "outputs": [
    {
     "data": {
      "text/plain": "                                          ReviewText  Rating  ClassName  Age  \\\n0        absolutely wonderful silky sexy comfortable       4  Intimates   33   \n1  love dress sooo pretty happened find store im ...       5    Dresses   34   \n2  high hope dress really wanted work initially o...       3    Dresses   60   \n3  love love love jumpsuit fun flirty fabulous ev...       5      Pants   50   \n4  shirt flattering due adjustable front tie perf...       5    Blouses   47   \n\n                                          WordCounts  \n0  {'absolutely': 1, 'comfortable': 1, 'sexy': 1,...  \n1  {'bc': 2, 'bought': 1, 'definitely': 1, 'dress...  \n2  {'bottom': 1, 'cheap': 1, 'comfortable': 1, 'c...  \n3  {'compliment': 1, 'every': 1, 'fabulous': 1, '...  \n4  {'adjustable': 1, 'cardigan': 1, 'due': 1, 'fl...  ",
      "text/html": "<div>\n<style scoped>\n    .dataframe tbody tr th:only-of-type {\n        vertical-align: middle;\n    }\n\n    .dataframe tbody tr th {\n        vertical-align: top;\n    }\n\n    .dataframe thead th {\n        text-align: right;\n    }\n</style>\n<table border=\"1\" class=\"dataframe\">\n  <thead>\n    <tr style=\"text-align: right;\">\n      <th></th>\n      <th>ReviewText</th>\n      <th>Rating</th>\n      <th>ClassName</th>\n      <th>Age</th>\n      <th>WordCounts</th>\n    </tr>\n  </thead>\n  <tbody>\n    <tr>\n      <th>0</th>\n      <td>absolutely wonderful silky sexy comfortable</td>\n      <td>4</td>\n      <td>Intimates</td>\n      <td>33</td>\n      <td>{'absolutely': 1, 'comfortable': 1, 'sexy': 1,...</td>\n    </tr>\n    <tr>\n      <th>1</th>\n      <td>love dress sooo pretty happened find store im ...</td>\n      <td>5</td>\n      <td>Dresses</td>\n      <td>34</td>\n      <td>{'bc': 2, 'bought': 1, 'definitely': 1, 'dress...</td>\n    </tr>\n    <tr>\n      <th>2</th>\n      <td>high hope dress really wanted work initially o...</td>\n      <td>3</td>\n      <td>Dresses</td>\n      <td>60</td>\n      <td>{'bottom': 1, 'cheap': 1, 'comfortable': 1, 'c...</td>\n    </tr>\n    <tr>\n      <th>3</th>\n      <td>love love love jumpsuit fun flirty fabulous ev...</td>\n      <td>5</td>\n      <td>Pants</td>\n      <td>50</td>\n      <td>{'compliment': 1, 'every': 1, 'fabulous': 1, '...</td>\n    </tr>\n    <tr>\n      <th>4</th>\n      <td>shirt flattering due adjustable front tie perf...</td>\n      <td>5</td>\n      <td>Blouses</td>\n      <td>47</td>\n      <td>{'adjustable': 1, 'cardigan': 1, 'due': 1, 'fl...</td>\n    </tr>\n  </tbody>\n</table>\n</div>"
     },
     "execution_count": 12,
     "metadata": {},
     "output_type": "execute_result"
    }
   ],
   "source": [
    "pre_processor = NltkPreProcessor()\n",
    "\n",
    "df1 = pd.read_csv(os.path.join('data', 'Womens Clothing E-Commerce Reviews.csv' ))\n",
    "df = df1[['ReviewText','Rating','ClassName','Age']]\n",
    "df['ReviewText'] = df['ReviewText'].fillna('')\n",
    "df['ReviewText'] = df['ReviewText'].apply(pre_processor.lowercase)\n",
    "df['ReviewText'] = df['ReviewText'].apply(pre_processor.remove_digits)\n",
    "df['ReviewText'] = df['ReviewText'].apply(pre_processor.remove_punctuation)\n",
    "df['ReviewText'] = df['ReviewText'].apply(pre_processor.remove_stop_words)\n",
    "df['ReviewText'] = df['ReviewText'].apply(pre_processor.get_lemma)\n",
    "\n",
    "\n",
    "# CountVectorizer() converts a collection \n",
    "# of text documents to a matrix of token counts\n",
    "vectorizer = CountVectorizer()\n",
    "# assign a shorter name for the analyze\n",
    "# which tokenizes the string\n",
    "analyzer = vectorizer.build_analyzer()\n",
    "\n",
    "def wordcounts(s):\n",
    "    c = {}\n",
    "    # tokenize the string and continue, if it is not empty\n",
    "    if analyzer(s):\n",
    "        d = {}\n",
    "        # find counts of the vocabularies and transform to array\n",
    "        w = vectorizer.fit_transform([s]).toarray()\n",
    "        # vocabulary and index (index of w)\n",
    "        vc = vectorizer.vocabulary_\n",
    "        # items() transforms the dictionary's (word, index) tuple pairs\n",
    "        for k,v in vc.items():\n",
    "            d[v]=k # d -> index:word\n",
    "        for index,i in enumerate(w[0]):\n",
    "            c[d[index]] = i # c -> word:count\n",
    "    return  c\n",
    "\n",
    "# add new column to the dataframe\n",
    "df['WordCounts'] = df['ReviewText'].apply(wordcounts)\n",
    "df.head()\n"
   ]
  },
  {
   "cell_type": "code",
   "execution_count": 13,
   "id": "7eed19c2",
   "metadata": {},
   "outputs": [
    {
     "name": "stdout",
     "output_type": "stream",
     "text": [
      "261      top cute got lighter color fit great go many t...\n",
      "6466     love color top dark olive green elegant mostly...\n",
      "9853     like color design looked super cute tried brou...\n",
      "20688    love tunic detail weight fringe run big would ...\n",
      "10497    ordered dress online color pretty like pastel ...\n",
      "                               ...                        \n",
      "17765    love love love dressits quality well fitting j...\n",
      "21250    several pair ag jean always pleased get saw st...\n",
      "6214     dress well made fabric thick enough winter wea...\n",
      "15821                                                     \n",
      "10260            comfortable fit muscley flabby arm pretty\n",
      "Name: ReviewText, Length: 4123, dtype: object\n"
     ]
    }
   ],
   "source": [
    "# Rating of 4 or higher -> positive, while the ones with \n",
    "# Rating of 2 or lower -> negative \n",
    "# Rating of 3 -> neutral\n",
    "df = df[df['Rating'] != 3]\n",
    "df['Sentiment'] = df['Rating'] >=4\n",
    "df.head()\n",
    "\n",
    "# split data\n",
    "train_data,test_data = train_test_split(df,train_size=0.8,random_state=0)\n",
    "print(test_data['ReviewText'])\n",
    "\n",
    "# select the columns and \n",
    "# prepare data for the models \n",
    "X_train = vectorizer.fit_transform(train_data['ReviewText'])\n",
    "y_train = train_data['Sentiment']\n",
    "X_test = vectorizer.transform(test_data['ReviewText'])\n",
    "y_test = test_data['Sentiment']"
   ]
  },
  {
   "cell_type": "code",
   "execution_count": 14,
   "id": "ca8a01b3",
   "metadata": {},
   "outputs": [
    {
     "data": {
      "text/plain": "LogisticRegression()"
     },
     "execution_count": 14,
     "metadata": {},
     "output_type": "execute_result"
    }
   ],
   "source": [
    "lr = LogisticRegression()\n",
    "lr.fit(X_train,y_train)"
   ]
  },
  {
   "cell_type": "code",
   "execution_count": 15,
   "id": "62fe9fcf",
   "metadata": {},
   "outputs": [
    {
     "name": "stdout",
     "output_type": "stream",
     "text": [
      "[0.991353498275863, 0.9997123792447139, 0.19981989459426158, 0.9117085031376856, 0.6657515749602467, 0.022473180437923335, 0.9936812957433047, 0.9969413029850495, 0.9888728544867184, 0.9997073934607504, 0.0013011420521687681, 0.9924774280531372, 0.9999876179543494, 0.9994370977582222, 0.9883340512725692, 0.9999770740635612, 0.9998635360091221, 0.8773136659218499, 0.9615445819356562, 0.008541202226746045, 0.0028262497651549857, 0.9985397737522616, 0.9688093359753277, 0.9995499406438306, 0.9993065504922989, 0.9995258430940605, 0.9023588455643947, 0.9905481878295908, 0.9996406532387078, 0.9956254767298196, 0.9995424960016587, 0.995064837389222, 0.9996940742757816, 0.22336990919921826, 0.0001373400022268921, 0.9886627041602204, 0.004929144452507996, 0.9959706583724496, 0.9468224473075192, 0.990228485969285, 0.1881560060722602, 0.9998723583427845, 0.9993863758192048, 0.999779012776332, 0.9997306050920235, 0.96611104858593, 0.7192365409747054, 0.8826794631320003, 0.7681142263282339, 0.9777727239291757, 0.9915615149047368, 0.8773136659218499, 0.7811857245142716, 0.9377158401339888, 0.9999355680272571, 0.992054656751047, 0.9449414201332628, 0.997211463829348, 0.9992034996825401, 0.9866674566135197, 0.9999536015206085, 0.9965735169687896, 0.9999734804857568, 0.9999563740030217, 0.9999658051255679, 0.9999224481511159, 0.0010583514058932503, 0.9881110626983493, 0.999991378688563, 0.9999770535859899, 0.9652322842066817, 0.9998915655993675, 0.999621343415338, 0.9994170185907238, 0.9875734673995363, 0.9999233063839605, 0.990772382000296, 0.6590476067659427, 0.4139831747894508, 0.9830018007219263, 0.9897477302529745, 0.9999626679864576, 0.9684276225530968, 0.9535597610950378, 0.9632085298315333, 0.11542512072593093, 0.6290993853329625, 0.9971292600029207, 0.9990597847397992, 0.9997849548746763, 0.8773136659218499, 0.9769446756626554, 0.9999081124563653, 0.9997752962720726, 0.9558059340443406, 0.8773136659218499, 0.8770355722587782, 0.34637021152924286, 0.9985817947539741, 0.9999654790891525, 0.9992211228250507, 0.9989048057792823, 0.9861376158984823, 0.8731584147094962, 0.996963388117442, 0.9998672621615114, 0.9598230796905973, 0.997778380220711, 0.9057890931421336, 0.8773136659218499, 0.9995848563858989, 0.9974149682192208, 0.9999323813933259, 0.9995814635407027, 0.9941344840265925, 0.9953123034924863, 0.044157765730340505, 0.999480254012513, 0.9993061533116574, 0.9763578329524245, 0.9811417152606424, 0.012192742709553023, 0.9999798678782996, 0.916439551787049, 0.9949946330937507, 0.9989030658581826, 0.9996510777667265, 0.971408940786346, 0.9978896763372395, 0.5281498144892592, 0.9862589149875303, 0.9994038341945174, 0.9992981197538404, 0.9846973198484691, 0.9952967058801577, 0.06618430262801862, 0.9996541272317931, 0.9886615236791017, 0.9811021901907624, 0.8773136659218499, 0.9985947962106483, 0.9994520778196526, 0.9998784191548943, 0.9991020334043249, 0.9876180578364869, 0.9817575399468939, 0.999866165380143, 0.9993703554588039, 0.9973796189009154, 0.8773136659218499, 0.9980950899637326, 0.06758191511252912, 0.9970686280730782, 0.9211638595694067, 0.7340226037698754, 0.8827853258088516, 0.9982562328321356, 0.991274988538221, 0.9996046914800668, 0.03144704860998273, 0.9996816825580906, 0.9995780940752829, 0.9975705064851915, 0.10163968086749467, 0.9993819618884927, 0.9999028083540469, 0.7698766592329611, 0.97414321582758, 0.9887514920407448, 0.9689051616619444, 0.47938205612170914, 0.8702256012779169, 0.9938679665443249, 0.9999916840828121, 0.5553879725472016, 0.9983181720398794, 0.9438973366111043, 0.8050643542418073, 0.10754734299418932, 0.9997032157909924, 0.9997747976896817, 0.9992659362274412, 0.9998284887705623, 0.9978756151426315, 0.9977328385660299, 0.9999453180562117, 0.9982101829557907, 0.9973363623289163, 0.9388129228461567, 0.6973801899561012, 0.9611620876393956, 0.03264877239705615, 0.9999990065038571, 0.010447047385350522, 0.9872101692052577, 0.9999969543493795, 0.9980233215341708, 0.3329798156230365, 0.8773136659218499, 0.9997343653370907, 0.9970217508640674, 0.9997302456591488, 0.9994229364064472, 0.9985390853259332, 0.9995836947438631, 0.9764415372452813, 0.6063043757179244, 0.9377873991267508, 0.9999354736784315, 0.9999158410932412, 0.9921931109173374, 0.9926982508318524, 0.9999684356410478, 0.977798795858522, 0.704919122506326, 0.9981590933591382, 0.9925435175955584, 0.9981731111142029, 0.9780446654492179, 0.9997868903035471, 0.011504336322120605, 0.19700375654132243, 0.9991713497748289, 0.9925085494075411, 0.9955235340751037, 0.9865901532131633, 0.99481359297303, 0.9999978185949862, 0.7682632726737614, 0.9095778281253607, 0.9926506867404934, 0.8496024711650207, 0.543418686764287, 0.9983199720091528, 0.8944452839429672, 0.9948267130351781, 0.9999806184484011, 0.18731247486567976, 0.9999876758558738, 0.6169153311172324, 0.9984263292750789, 0.9996351256698037, 0.9999836051071934, 0.9999867069426764, 0.9996171319084319, 0.22855980775606316, 0.9527441427733839, 0.8773136659218499, 0.9994551382939447, 0.5560733160825297, 0.9998420284698908, 0.9777418289575949, 0.9975846270693278, 0.9999060030592011, 0.9945893204312659, 0.9908022972143659, 0.9989053322153216, 0.9999873445007739, 0.9694008976678296, 0.9987246226029232, 0.9999750775899932, 0.029665531363153776, 0.8002787077444337, 0.9864833070348474, 0.6211809385473395, 0.04043074628972543, 0.9999288702026176, 0.9996141868017112, 0.9999996079534996, 0.9998523237866108, 0.9765435567721917, 0.21578777777485125, 0.9963574440675573, 0.9988683459741194, 0.8583919397267098, 0.9546218159255446, 0.9995169944248552, 0.9998737726657086, 0.9991901544165157, 0.9999695633910106, 0.9970438437124035, 0.9997377392209698, 0.997425230815774, 0.9996322012623542, 0.998115141398285, 0.9908457068974001, 0.8761792887886554, 0.9954775042439621, 0.6939651131725397, 0.9969685430677965, 0.9718621751925303, 0.9999811379384895, 0.9737741936723483, 0.8773136659218499, 0.9994424990900646, 0.9967240609995819, 0.9989572224203448, 0.9998626640302086, 0.999880206481017, 0.9005689257718384, 0.9688571297038148, 0.9990860800243648, 0.9679175409081888, 0.9999470705728158, 0.9978538402281225, 0.9988681201516495, 0.9916980201404031, 0.9986157691677462, 0.9999897925074519, 0.9971902844524845, 0.9974498476398593, 0.5480316294569416, 0.9997111051595378, 0.9999915997918799, 0.9997801956337417, 0.9018850692960612, 0.8773136659218499, 0.9999727849624127, 0.9999682761470642, 0.9972315268928161, 0.9860096021275341, 0.9895548019431765, 0.9998919143064401, 0.9984855219737705, 0.9998030189019584, 0.9999995130563262, 0.9972188810919509, 0.9972664303936364, 0.9987598709560348, 0.975740430781152, 0.16123917922353015, 0.9958302984729207, 0.881135721349957, 0.9949237422508539, 0.9973951285607519, 0.9997826114168539, 0.9980986733130158, 0.8772454717785262, 0.98513928339707, 0.9793060271954879, 0.11883699617015478, 0.9997572946311875, 0.35905124147547546, 0.9985589285013985, 0.9920065271340383, 0.9778902923645274, 0.9997555826166395, 0.99279149966654, 0.9990300671126455, 0.9996260907502237, 0.999404781719136, 0.8773136659218499, 0.9947820482453005, 0.9962238542470666, 0.8281823469424234, 0.9890818212345192, 0.9754508336116706, 0.9935473977208616, 0.9999283292450277, 0.8773136659218499, 0.8785604757205238, 0.9970433492903847, 0.8193386680509634, 0.9999657647891322, 0.7204779775677476, 0.9975517095962592, 0.8773136659218499, 0.9930937425562744, 0.9894009356223415, 0.9972311095957098, 0.8773136659218499, 0.9970534964037947, 0.9083057846220104, 0.7338665737715047, 0.9964464223632363, 0.9989448746901664, 0.9870453416664966, 0.9923915136484088, 0.9999885451901913, 0.9146754690562726, 0.9976019924986562, 0.9999014074918412, 0.9658339949065184, 0.938631189174699, 0.963664072766688, 0.9759826992054941, 0.8989283909647822, 0.8563730134851664, 0.9933677155377136, 0.9999726513773487, 0.9969999209968451, 0.987382549918154, 0.25743651996277056, 0.9917014068991139, 0.992633757957877, 0.5822315276936432, 0.9999987659747753, 0.10744254774939618, 0.8773136659218499, 0.9998451778186721, 0.9934212823077958, 0.9149277333447575, 0.9995908242820841, 0.4114997364556663, 0.9979404416625096, 0.9929701758366334, 0.9764206620224298, 0.9999959744117751, 0.9992916047223, 0.9995889487080193, 0.9984760604184953, 0.9998170678271393, 0.9999118534658828, 0.008102843947648927, 0.0035421608618219414, 0.9976764400236389, 0.999947587558661, 0.8773136659218499, 0.8773136659218499, 0.9992282814445673, 0.8314702781070752, 0.1894749342120534, 0.9992852725779782, 0.9984734704801559, 0.9995234107882435, 0.8144441664340509, 0.8773136659218499, 0.9958572055379917, 0.906658041520257, 0.9986199639274432, 0.9946591638496042, 0.49988355706618115, 0.9840640944882225, 0.8592997346167914, 0.9807981688888553, 0.9974418074938701, 0.9996457679938276, 0.9949837875087735, 0.9999830865607328, 0.7503408371212718, 0.9794620008494316, 0.10490592699060951, 0.06538286556077728, 0.4023319006515693, 0.9987120570410333, 0.9967004124988886, 0.9999263715525613, 0.985712317556431, 0.9896265951231188, 0.9761019947322486, 0.9992716556029915, 0.9998943689694711, 0.99789989155785, 0.9937657949671311, 0.9987446704894822, 0.999984306919162, 0.9973363414019427, 0.8339412872479557, 0.9999237851651186, 0.9980823170795617, 0.0005032056125839334, 0.9990806445210545, 0.9911228361061593, 0.47570443199792606, 0.9655482169270557, 0.9997280726176898, 0.3731758974759995, 0.9865137208852128, 0.16152702316978826, 0.9950693467589582, 0.9970360297650467, 0.8103426198532603, 0.9997464896525728, 0.9996297457978782, 0.9568317299345744, 0.9996969358882554, 0.9779559308514071, 0.999347263686376, 0.9492193753306357, 0.9973640884947975, 0.9999199727476552, 0.8762086583826624, 0.9997121911404547, 0.9998293931396468, 0.9997431858689556, 0.8773136659218499, 0.9997897601227086, 0.9550442815978487, 0.9918090931450803, 0.9978665373920532, 0.9897329400212653, 0.9999655710906489, 0.9938200705779755, 0.9999997198412746, 0.958427867727201, 0.9999249154267339, 0.9971172153328033, 0.9997200954287232, 0.9997123118443586, 0.9010328277337292, 0.9999835033542857, 0.1653378636505499, 0.9990547378282459, 0.9936627577083462, 0.9996269333531592, 0.9918397455209325, 0.999968260419995, 0.8773136659218499, 0.011039813355901424, 0.9574759979097673, 0.9998303580354594, 0.7334012723632888, 0.991254144641845, 0.9963934407963546, 0.9999601192090256, 0.9961513943714108, 0.03622547139425459, 0.9776965356765104, 0.8225347587632802, 0.9942419464657866, 0.9792100215822902, 0.9999264200017713, 0.9997317825008145, 0.9994999987798857, 0.022911760705448318, 0.9985872626108344, 0.333420502161638, 0.9986043105469554, 0.6169608800919191, 0.9994002084289699, 0.8178472088583204, 0.9999970025261641, 0.9738291426073667, 0.9969992988542393, 0.9614231509403925, 0.9807460114491471, 0.9999822737688413, 0.9892390380537172, 0.999966570557703, 0.843292480954956, 0.9787998278969953, 0.9991309554795637, 0.35729526868164135, 0.9999716089988049, 0.3773357113403637, 0.9955277563296536, 0.9990813132084312, 0.9559500046488674, 0.9991728785078299, 0.9960536817972269, 0.99918634449331, 0.9938996108648119, 0.9949433523921847, 0.9692306630437704, 0.997322799192521, 0.9997977862107161, 0.9539916296856117, 0.9472006304631501, 0.2978830058884134, 0.9361056943218997, 0.999460008887842, 0.9831531221374908, 0.47815871617596034, 0.9995757161964761, 0.9983144397261966, 0.9999936341000386, 0.9480020495929696, 0.9385382577894231, 0.9878498841683563, 0.9999984945949324, 0.04876649419929406, 0.9901563972073861, 0.7583513192533847, 0.10768323459619027, 0.9842511289772286, 0.9995444660813232, 0.9708678025414939, 0.9733303780445898, 0.9747430078190039, 0.9996607938234462, 0.9836842874354303, 0.9986022325485632, 0.997808597189495, 0.9993153003420079, 0.9924447265455437, 0.999969629198706, 0.9968082993339064, 0.9989367314829677, 0.9968058569769017, 0.9999395440508637, 0.8773136659218499, 0.9950313218872331, 0.9409911732058275, 0.9989404794609543, 0.998476456406483, 0.9978425517137307, 0.9689299684852442, 0.9661740076390344, 0.9976149749409138, 0.9799459838980819, 0.9917707881690354, 0.9942815983670115, 0.9886707805894881, 0.9984011343959288, 0.9877474835431226, 0.9898657889864444, 0.9960721745138897, 0.9925624315325698, 0.9479286980009052, 0.9983818002881949, 0.3143591236564786, 0.9951375007130261, 0.9945550711570118, 0.8070822422920342, 0.9981996005753841, 0.9972602751565042, 0.9845310718756627, 0.9911155628212965, 0.9974589760435024, 0.9996702871827924, 0.889622125139534, 0.9933578669393883, 0.624105990070753, 0.62772383221338, 0.8773136659218499, 0.004401301742973947, 0.9454071660942973, 0.999821971020318, 0.9999999875642102, 0.9998635695998163, 0.9991556714360699, 0.9061258062115624, 0.5364370206672181, 0.9964799787806565, 0.998388383470918, 0.8773136659218499, 0.12451026537799718, 0.9999072615260469, 0.9557535458578319, 0.9980707671795245, 0.9939047453884748, 0.9540842912185735, 0.999199730994504, 0.9999957682145557, 0.9811606204574903, 0.9999637167085166, 0.9889276797230105, 0.29357075408121014, 0.9647485600318536, 0.9983666845513248, 0.9991413813900143, 0.9777573436127881, 0.33832755090277195, 0.9999370171996781, 0.9999695890395692, 0.3157619085879496, 0.9999622588099912, 0.9863260166503008, 0.9931332911512799, 0.8773136659218499, 0.9943607266336891, 0.8818502188974354, 0.9999683477632769, 0.9998127386443526, 0.9695737340815908, 0.5858313390410401, 0.8641240400751661, 0.9762010493859198, 0.9974684854147642, 0.9999820029813935, 0.9996879877075927, 0.9998623400978961, 0.9984478467008555, 0.826765299858996, 0.9975194218253799, 0.9934471675239628, 0.9805440900654114, 0.9931406118760993, 0.9929576076878155, 0.9991508440835216, 0.9958222971775046, 0.045280897831193365, 0.999931553302398, 0.9166654953459831, 0.9999981703349509, 0.9993870471981331, 0.9896766017960587, 0.999930016399414, 0.9777860085624915, 0.8546144960537463, 0.9999795707028277, 0.9999945385816327, 0.9926510110746536, 0.9132668154955955, 0.9998669550335325, 0.4656521394699051, 0.9980409261360252, 0.9998653530649897, 0.9590209435918953, 0.9998355424087902, 0.9998824254967564, 0.9617396995917505, 0.9998026509984315, 0.0014067760704098522, 0.9944049189334094, 0.994438523947575, 0.9936280212102166, 0.9948146918475373, 0.9807538378603529, 0.0052644980642386095, 0.9905540622633484, 0.932093399689764, 0.892810384810451, 0.9875997938999557, 0.7850253114721629, 0.8773136659218499, 0.35807485240701126, 0.9998246599981782, 0.9942231577676836, 0.9973767377046937, 0.8773136659218499, 0.7145854540309453, 0.9999968790573118, 0.9999676003135051, 0.9979404586444671, 0.9987846550740107, 0.9998456522334533, 0.9999145447502071, 0.9801736011812199, 0.9906442927660333, 0.9977015749823671, 0.9999718241833194, 0.9586780710909231, 0.9943383719815421, 0.9999627381670606, 0.8773136659218499, 0.9812173392477491, 0.9999521401565165, 0.999134702894285, 0.9999701567740784, 0.8788168450404925, 0.08246837601814364, 0.9982049269373874, 0.9962466393595047, 0.05931303240898697, 0.9967178318436825, 0.999975608364038, 0.9933537505690283, 0.9953375252264139, 0.9998191172856011, 0.9529175022543852, 0.8773136659218499, 0.6043591414972858, 0.9998931413639888, 0.9960066414160818, 0.8773136659218499, 0.9611824579061129, 0.9713680549280941, 0.9994895454628165, 0.9932985382397503, 0.9988065501366628, 0.9696259198824471, 0.7489637581769316, 0.9982895862467371, 0.8779951468317334, 0.9998580842588514, 0.9639372489128735, 0.9994172054095914, 0.9969833166174469, 0.9999819289333923, 0.29391687437864006, 0.9646780387696581, 0.9609601903340029, 0.9996766395890279, 0.9992030908198519, 0.8773136659218499, 0.9970703109530082, 0.25489534379289214, 0.9780018543056653, 0.9772839472260814, 0.9978689109682882, 0.9999724394767965, 0.9994535334012195, 0.9999430617317995, 0.9999989073726016, 0.10820166086896066, 0.9903337717463614, 0.9998941724799275, 0.9416592270637741, 0.9995751093648533, 0.9997733510891019, 0.9838354864013374, 0.9997772754691214, 0.9972392347695503, 0.9958230010786597, 0.9949792848523181, 0.9993834067787492, 0.9962397510074616, 0.9662431137329056, 0.9988084830290066, 0.8930312290790829, 0.9998558254022777, 0.999057817735602, 0.9990810476971383, 0.9995861419373011, 0.9964940763995485, 0.997015610025331, 0.9934851481200693, 0.9999938615723394, 0.9755887127393402, 0.9996819043418453, 0.995132391533429, 0.9978622120136773, 0.9999904189983758, 0.003652343150250586, 0.9996922724296929, 0.9596100187807487, 0.05041977673700041, 0.9991720100237452, 0.99137445318034, 0.9994286810613627, 0.9739153251173905, 0.9929536623197867, 0.9908561304930137, 0.7487337434358473, 0.9903304633055725, 0.9886430841954654, 0.18036161216094984, 0.7471496866400044, 0.999655585856856, 0.9999430500961294, 0.9907171062012505, 0.9992582101120699, 0.9971440690124183, 0.9981915542325648, 0.9121028873344721, 0.9983481172464383, 0.9958250836722105, 0.9431613582035147, 0.9974726601974857, 0.9999884283549813, 0.9986159361344852, 0.9869289558487493, 0.2167344825385068, 0.9957362450428224, 0.9796726134264692, 0.9722355396295642, 0.0008499093817604811, 0.9991247850199285, 0.9996624139259493, 0.8773136659218499, 0.9509412428289904, 0.927636001627409, 0.2044886463133551, 0.5930548351867889, 0.9471467702961334, 0.9697497050086616, 0.5342661121436975, 0.9877164526479933, 0.9994220824722538, 0.9635042909953646, 0.996933117463509, 0.8773136659218499, 0.9966682828450598, 0.9995145723884014, 0.7791485872852284, 0.9967472836926626, 0.9987528750334275, 0.9995828686960648, 0.8959155721736948, 0.9939951214626688, 0.9953421621760158, 0.028999655259001063, 0.9914092106723118, 0.9807644839642997, 0.9977378003644473, 0.9751775094480223, 0.9976247639472329, 0.8773136659218499, 0.9998320011868188, 0.9999951225210636, 0.9972633785775243, 0.999917941405381, 0.9998206841039601, 0.9996507354349301, 0.36475799841956175, 0.9814830426893167, 0.9950035938925859, 0.8773136659218499, 0.9999291842094302, 0.8773136659218499, 0.4915984219112712, 0.9661653586060808, 0.9838423607520572, 0.9939582117866641, 0.8667984073287928, 0.9998960301353103, 0.9999973800608144, 0.9994665805131389, 0.9965629628315872, 0.719463114353123, 0.9888544666702929, 0.9806405026440383, 0.9993962265995925, 0.39752534599849043, 0.754520964767496, 0.9743318700942798, 0.9838289362005046, 0.9976163721422603, 0.9999197235369993, 0.8773136659218499, 0.995910675736137, 0.9999853136648592, 0.9871059690424001, 0.9982888342245646, 0.5278441734543866, 0.9971023931574754, 0.8773136659218499, 0.9869094638491968, 0.9998752866688946, 0.8581619974803706, 0.9532038668579835, 0.8773136659218499, 0.9976592929099832, 0.9980215815403749, 0.9885121132502127, 0.998566785608857, 0.9988699266160226, 0.7817323776382078, 0.9998993926923199, 0.8900991023433823, 0.9999717629676209, 0.9959556135653609, 0.6357402925975028, 0.999957462510547, 0.5330684169557715, 0.8773136659218499, 0.9871566481928239, 0.9999649271890471, 0.9998209536946537, 0.9997292325538343, 0.9070492700010732, 0.26459161833784933, 0.6559762152359848, 0.6553517852660947, 0.00649505711096649, 0.9802326153033462, 0.00435689518384914, 0.9912564701002129, 0.9850378983956766, 0.7853222771375618, 0.8773136659218499, 0.9997356326471617, 0.9992064359492318, 0.9944083495560452, 0.9999808660520606, 0.5379430615526204, 0.9852451467958938, 0.9989137619626985, 0.8773136659218499, 0.6433321499474595, 0.037646150615470636, 0.9689939144898362, 0.9988746094819166, 0.9998982049670612, 0.9938828883899483, 0.9985914118257545, 0.8773136659218499, 0.9938999870691948, 0.9989036855951955, 0.8773136659218499, 0.9999278216697961, 0.9996614651484632, 0.8426832102057444, 0.9995541003613614, 0.6379625547918778, 0.9744283526408093, 0.6075876880729503, 0.9449325494035844, 0.976022434207653, 0.9760278796240667, 0.16476161765814953, 0.999017231780971, 0.9697971612462363, 0.044222890106973306, 0.9978885653688776, 0.9019184988620628, 0.9774245872227765, 0.8773136659218499, 0.977835730309607, 0.9983173061980707, 0.9884436846635027, 0.9675474361867438, 0.9999417709986262, 0.9172491648890525, 0.9996164712502901, 0.9896694468753704, 0.9957781020731135, 0.9588050140457032, 0.9988876328856847, 0.9750493619446646, 0.9038877124972876, 0.9999937050077257, 0.9999848779496453, 0.9879898092390004, 0.9999350019785347, 0.995640504926827, 0.9939275901943979, 0.9873900135209428, 0.9999633315104087, 0.9992768076448278, 0.9977922407494527, 0.9949190959530237, 0.998520914181958, 0.9852669621215698, 0.9926915543179524, 0.9929527934532316, 0.4314381974395782, 0.9986675273692652, 0.9912822478538877, 0.9669993599731624, 0.9981201825184097, 0.9481575206215216, 0.9973200427730411, 0.818312871013243, 0.9975873358085783, 6.794316834902452e-05, 0.9937449168085376, 0.9975582687148418, 0.9850852315825771, 0.9958509663987324, 0.9997563056166567, 0.9954054301150745, 0.9930773835462225, 0.9999902456427595, 0.9974723181777281, 0.7488316400171897, 0.9653652335026727, 0.0180266205452986, 0.9883733930734993, 0.9973498682776639, 0.999842622123375, 0.9783363244993181, 0.9999610593021819, 0.9953462072304399, 0.9787747914544234, 0.883295921986779, 0.9113396887321393, 0.9999860956746554, 0.9999929661635544, 0.9997721456889457, 0.999941591783872, 0.8858918392294779, 0.9997189140226073, 0.9986842376535181, 0.9760361490345973, 0.9939367600856767, 0.9856704374979566, 0.1374794905077766, 0.9977705094819734, 0.9503075436747244, 0.9165654171205438, 0.9982887073889394, 0.9999442868634802, 0.0008760497818967352, 0.9636629038730393, 0.999874564118713, 0.77015522347225, 0.9924210416126323, 0.9755100564259463, 0.9988184555257953, 0.8947805503487216, 0.9996492114100003, 0.9999564979539048, 0.9633978629631089, 0.9999957636646745, 0.8773136659218499, 0.9996595399784624, 0.5050424017234764, 0.9886707393114065, 0.8382581549589699, 0.997824082892697, 0.9678337630434868, 0.9369427535744104, 0.9997928244415426, 0.9986202859882589, 0.999307886333446, 0.8773136659218499, 0.9934534966766513, 0.8773136659218499, 0.950044252793393, 0.8773136659218499, 0.853886647227251, 0.9989468192896136, 0.9999618709952279, 0.9884676900293232, 0.9998561303353947, 0.9885631328443882, 0.10604243574660378, 0.9539385356113005, 0.9999859706993649, 0.9996217326621512, 0.9997468532531756, 0.19097813144020107, 0.9999067996427636, 0.9867594971448312, 0.9951019059958607, 0.9987089949216682, 0.9880746227974252, 0.013096888222532296, 0.0018449363039393213, 0.9999745867573334, 0.9846970242956053, 0.9816511971144639, 0.9998502698227548, 0.9994210545344088, 0.9982049379268046, 0.32945176682552224, 0.9702233041410686, 0.9999389657598602, 0.31922462806938284, 0.9858559263935883, 0.7565682417191443, 0.9798223523146058, 0.9943866030731024, 0.9996038827578789, 0.9939553670938917, 0.999998310136084, 0.867538216540623, 0.8773136659218499, 0.7767612232521256, 0.9731563926860676, 0.8823778746385263, 0.9992334725518783, 0.9999228398192419, 0.27954791677185925, 0.9927838241151619, 0.974132601224773, 0.9993667762853209, 0.9999645967220581, 0.9441814012003685, 0.8773136659218499, 0.5857622162464448, 0.9997248334571107, 0.9776899686964292, 0.9969869960453406, 0.9994794214025279, 0.9542851497077205, 0.8773136659218499, 0.9999845815651123, 0.02510571483362266, 0.9948957276074772, 0.9999986525900116, 0.9995345112920915, 0.9794382667226995, 0.998818618794081, 0.005771017825783132, 0.9861488830640325, 0.9933164915283995, 0.9997453230053982, 0.0069655371223703915, 0.999255311472296, 0.9593502704463153, 0.9990797657253627, 0.9999999473536786, 0.9997761801158522, 0.8451779779563546, 0.9325817181391954, 0.9887365484050356, 0.9443073555844294, 0.9999715377666809, 0.9945251808833235, 0.9998169122452553, 0.9572794297426515, 0.9974268274137689, 0.9729835730107993, 0.9654161029800385, 0.8773136659218499, 0.9645873336306491, 0.9992864625039862, 0.9986219939293095, 0.999874247805901, 0.7203060776543763, 0.18966035574048376, 0.9352409245166359, 0.9995978125238575, 0.43435050916179324, 0.9906470411479957, 0.3222530553564733, 0.9246789016604684, 0.990435974837266, 0.9997860617424035, 0.9997853221881462, 0.9385245658085892, 0.9941710339113121, 0.9999859507198003, 0.9986815700469773, 0.9991148022995454, 0.9548229827974872, 0.6847351846583746, 0.9639301675281322, 0.9521538283170503, 0.9993024039630433, 0.9966462286069698, 0.9955079030922338, 0.9997408318301769, 0.9999330574901256, 0.982698595229142, 0.9914847053797735, 0.7063827230376216, 0.9956146518068687, 0.9995505984141849, 0.9923920907184494, 0.9995016829875142, 0.9913237050327974, 0.8640324100669706, 0.9725183684485672, 0.9997060095285699, 0.9053179494737286, 0.9999769398089841, 0.9999959888155417, 0.9994317551067784, 0.9978386840416441, 0.9854583458781726, 0.9982922139160562, 0.9998145215541387, 0.9301057530702599, 0.9999987067576903, 0.19632494429480526, 0.998871628144504, 0.9840034018516323, 0.9999753836852635, 0.9893333627927051, 0.9234603125476529, 0.9762080376470412, 0.9990889447906709, 0.9995618747658759, 0.9927366900002399, 0.9999979538758377, 0.8301857747440207, 0.317539997626323, 0.999672118766101, 0.970107410643539, 0.8579672940200654, 0.9885635822736112, 0.9853451334724384, 0.996036766779698, 0.9999835411606849, 0.9710280902303507, 0.9999788360825191, 0.2822829520626613, 0.9959487707165796, 0.9997620521443258, 0.9877789947331411, 0.9991609494633743, 0.9998177938122763, 0.9961727384203277, 0.9999938675106097, 0.9999810406106836, 0.9966714572813585, 0.9634423930387442, 0.9467165968772493, 0.9999302490396328, 0.9999133679281321, 0.9999718936217874, 0.9637051026717658, 0.0015424205397744758, 0.9934389405027707, 0.9458629141189286, 0.9770913253362441, 0.9581095309397787, 0.9992395587861856, 0.9900291536590686, 0.9995284948805409, 0.9987798989985509, 0.9997217026394921, 0.9983114625186669, 0.9986260197639585, 0.09385835956540504, 0.9991334710379983, 0.9866068635046583, 0.9999230299846331, 0.4222784570349959, 0.9961780968068868, 0.9879021963671673, 0.16052119844629364, 0.9859564088912978, 0.9577638591845414, 0.985068562511479, 0.9624101022722619, 0.999994454152655, 0.9999926562615056, 0.9635829211354586, 0.994003310041484, 0.9440875007018554, 0.9999247170884125, 0.9903717049288524, 0.9878673361214433, 0.9057834545709188, 0.9508477913512218, 0.9971227100828295, 0.9670978247476892, 0.9469479853648409, 0.9853096189412248, 0.8773136659218499, 0.9994147795743763, 0.9696855803564896, 0.9895713189551905, 0.9940283426677118, 0.9999594098558162, 0.9860567915905138, 0.9901697752507496, 0.9653331507552378, 0.4621984291834352, 0.999430234887566, 0.9999259486014225, 0.9999700284231281, 0.9998617939588972, 0.999645383966498, 0.9999914128201569, 0.8773136659218499, 0.9728024251098825, 0.9251997931524834, 0.8616001586693621, 0.9997366711729463, 0.8494794832914712, 0.9999995282223914, 0.9999857404143953, 0.9970371178207119, 0.8773136659218499, 0.9749639945859572, 0.9970347587868874, 0.9942192877145234, 0.989487393843139, 0.9950376238736351, 0.9277551218070731, 0.9607572256973915, 0.9999772285768836, 0.9854510258660164, 0.9991933172820202, 0.966484032746752, 0.7215577238335918, 0.833619171460314, 0.9487387515588543, 0.8989267141766055, 0.9999577350144885, 0.9986358973793779, 0.9999949819772821, 0.9999768417558733, 0.9971921596177566, 0.9953309868482059, 0.7130354522516285, 0.9648594489265648, 0.9989231975530012, 0.9997542265154553, 0.9959421858516455, 0.9996113883990742, 0.9503712271991103, 0.8773136659218499, 0.9825405443107964, 0.9874351277059923, 0.9909786292253127, 0.9998428824733443, 0.9934805064162635, 0.9683290421583286, 0.9982284128661675, 0.9910185756377266, 0.9905616597032861, 0.9983710800601646, 0.9873757340051683, 0.9999869596443882, 0.9982272395819134, 0.9984392104989102, 0.9540784769627833, 0.9999850554464561, 0.99815527700892, 0.9314945487339819, 0.9943704255408067, 0.9953399247768172, 0.957814990903527, 0.9998111455955754, 0.9984258602916074, 0.976569020493592, 0.9987187907729812, 0.959746112519015, 0.9985396217873413, 0.9994924007562008, 0.992064159686995, 0.9950698054363081, 0.998913600865249, 0.9959575015602952, 0.8122204032430929, 0.14190587787805672, 0.9996251796226319, 0.990813948628541, 0.9997159980491023, 0.9746923340959134, 0.8773136659218499, 0.9865333310511658, 0.9996717124911058, 0.9979355121392843, 0.9997362866089455, 0.9964446456699548, 0.9959231470306661, 0.9807181611439999, 0.8773136659218499, 0.9818445412767075, 0.999425642179016, 0.956392325107873, 0.991173068250662, 0.9776964089473382, 0.9775331918123165, 0.9994492697521838, 0.9999997004184198, 0.9144037819991365, 0.9994093737957435, 0.9997903279504202, 0.9990557602628879, 0.9962649193943156, 0.9997947248461039, 0.5706256751426807, 0.9997684255528001, 0.8904277636512127, 0.999860922884433, 0.999998884523541, 0.5318900216281272, 0.9998285765524462, 0.9999710620521673, 0.9868841333954075, 0.9538084729963099, 0.977412953021176, 0.8376343660266484, 0.9999341597779648, 0.9999048598475158, 0.9755670411350974, 0.30297841725443303, 0.47909903783301033, 0.9996723242747829, 0.9810944159359207, 0.9788731428861496, 0.9996401866490593, 0.9996782349502126, 0.23383212188694089, 0.9989584791637481, 0.1254249648128943, 0.8773136659218499, 0.9944016595596492, 0.994332611498229, 0.8896434999261259, 0.973774878636998, 0.9996032146048992, 0.7219632808699512, 0.9401389268346526, 0.9999665084433605, 0.9970535910403745, 0.9998360192350257, 0.9706623752163153, 0.9901338595871966, 0.9989298079723479, 0.9995739018966406, 0.9831403688078605, 0.8773136659218499, 0.1814765545780677, 0.9986742530070898, 0.999875960460301, 0.99976622288117, 0.9997747964596168, 0.999806296204196, 0.9876422117993466, 0.9959306358974417, 0.9973713705122755, 0.9888112693853568, 0.9931173096169194, 0.7197070317732408, 0.9992560277257636, 0.9188772231761319, 0.9674626848389103, 0.7641723644770841, 0.9699047246195398, 0.9393135382230103, 0.017709915638993493, 0.9925922210931405, 0.9867005782316149, 0.6466485031062306, 0.999755568287885, 0.9216715236077759, 0.999992708044982, 0.9852288708338879, 0.932070934731283, 0.999757174542261, 0.9975901373180471, 0.9975785670763484, 0.9894400447238582, 0.9955271241641317, 0.09927400344241943, 0.9947087740336026, 0.9983579899227498, 0.9940313673680377, 0.979220884240227, 0.9999610374937871, 0.9910620220283787, 0.6889905058239677, 0.9952746361201726, 0.9998741087491295, 0.9931009309485775, 0.941514217377734, 0.9989651689692578, 0.8981897241689165, 0.9997471855551454, 0.9773127153191487, 0.9989265857717262, 0.9988897152268414, 0.020761673305502125, 0.9490027788697668, 0.02895097984485905, 0.9997480221290486, 0.9864887635355849, 0.9861754126792495, 0.995865034619817, 0.9999453727717754, 0.999531943832896, 0.9722630443543734, 0.42115746043096625, 0.983815967858199, 0.024056983418349113, 0.9794825330052992, 0.8773136659218499, 0.9976678980578583, 0.9999588145195427, 0.9999433844592565, 0.6829384339868518, 0.9986799859007148, 0.9939449811807172, 0.8773136659218499, 0.99641256148527, 0.9998868827112712, 0.9968869772803028, 0.9009221022718816, 0.9999262810301637, 0.9983258218225807, 0.9686294079215103, 0.5951099664035743, 0.9290586175525157, 0.9966502012912128, 0.989702913265091, 0.5636773755520452, 0.9972143595789823, 0.9956953622012382, 0.9975027592466692, 0.9991751295606713, 0.9985165513076143, 0.9974421734805436, 0.9125671113455852, 0.9902277797755245, 0.9996615579343867, 0.9963630288744294, 0.9995505632278623, 0.9526605278014886, 0.9425117915592462, 0.997958065635269, 0.9999993270391955, 0.9922384124935919, 0.9420346321380413, 0.9993502139546757, 0.9990993313606947, 0.9991900636882608, 0.9968565094954671, 0.9629262889317206, 0.998173050368826, 0.9989070860280996, 0.999349537127659, 0.9980895148119622, 0.8045207173806939, 0.9911595375287577, 0.9996897880143957, 0.9998861357932792, 0.9996800837983556, 0.8646568027209921, 0.999515080842202, 0.9894321705019887, 0.9980362207120383, 0.9996574567264962, 0.9191994403542035, 0.9693000449710951, 0.24316168791460444, 0.3362482952765182, 0.9895989677687804, 0.9999584932589608, 0.9997244707719675, 0.9843083033240978, 0.9773897663783636, 0.3196073844542536, 0.9997329927886618, 0.050123061187251405, 0.9369168062987728, 0.8837200289313172, 0.9944046092296585, 0.027131536535491912, 0.8879708404460308, 0.9952538127145695, 0.8271174795512671, 0.006343593270309414, 0.9997733278448387, 0.9923857581458649, 0.9749655371283609, 0.999144965443039, 0.9972838941924838, 0.9855014243254223, 0.984385457630787, 0.7963185925870996, 0.8773136659218499, 0.954305410538039, 0.9885137476512301, 0.9572974716906653, 0.964239189731952, 0.9992361805386819, 0.9905486561951241, 0.7110776948862647, 0.9539719417735689, 0.9660874259283376, 0.9998268259137478, 0.94972693296388, 0.9999218677198707, 0.9066902289703239, 0.07573801756549813, 0.9999979642138661, 0.9874568333241542, 0.997321505304947, 0.9958832876898137, 0.9999619513063054, 0.8773136659218499, 0.999332229944613, 0.9982751443222877, 0.9451179683603974, 0.9993510343405806, 0.9999564227964038, 0.9970981788285284, 0.13806510906667974, 0.9998953579680253, 0.11544739382156446, 0.9930717483366331, 0.5978691609140911, 0.998106711056931, 0.9992713111455912, 0.9998683794322963, 0.8653058862127404, 0.9978127139847306, 0.7144124396141617, 0.9998465170773303, 0.9992788632051717, 0.982930715229518, 0.999996946342934, 0.8773136659218499, 0.9999422311905326, 0.8773136659218499, 0.9808854461093081, 0.03056036479758672, 0.9998037982427453, 0.8773136659218499, 0.9900779685083483, 0.027016947925324494, 0.9641275423299845, 0.99694015661515, 0.8773136659218499, 0.9970279276103696, 0.6235528076741065, 0.9838057993508592, 0.9972857533411579, 0.4152435504027638, 0.7770037930718524, 0.6194328680087349, 0.8773136659218499, 0.9995826056562457, 0.8773136659218499, 0.9992390758190436, 0.999678540632841, 0.9997655748647629, 0.9996075678739312, 0.9998139648907689, 0.8140171389640166, 0.5613729253546496, 0.9990043601822858, 0.9970446280869969, 0.9502070318034933, 0.9991842821563602, 0.993896948250223, 0.007448086759424555, 0.9999111681288637, 0.9996936290781319, 0.9927476383217146, 0.9623503085850759, 0.9925078468866461, 0.9839984381521703, 0.936300576612328, 0.9832484119750522, 0.9999120261003436, 0.9893630657471421, 0.9570912377732224, 0.7455991827075283, 0.9999228859777257, 0.8773136659218499, 0.9854667878862241, 0.9267996363104066, 0.9999945113432785, 0.02838860612938288, 0.9999564239788885, 0.9961223727104112, 0.9979041176998565, 0.9429966207882987, 0.9916546857312094, 0.6263618476540319, 0.9868906366569417, 0.9994682645457781, 0.9915634103547966, 0.9952411947168979, 0.9815023553558854, 0.9951794409090374, 0.9019577834452864, 0.9999502183437954, 0.9534959985116573, 0.9507041252587566, 0.9999700941492985, 0.9981506628380217, 0.9999880583325663, 0.9971463821098103, 0.9870847128009166, 0.9980564493643665, 0.9369241674127635, 0.4579926849460946, 0.9908264829675315, 0.9999481903740014, 0.9999987050883704, 0.999141929052297, 0.998085227860005, 0.9970375477619704, 0.9999275392232875, 0.987536617670059, 0.9599912433427472, 0.9898277450984545, 0.9950931932644067, 0.9706037652703353, 0.9946358396977687, 0.9593186410752025, 0.9926903402633749, 0.9769150656354675, 0.9974883580631495, 0.9945325050984811, 0.997919344728206, 0.9975827565438762, 0.9991621977982563, 0.8773136659218499, 0.028559876851355737, 0.9955598725254207, 0.974034084622391, 0.9994304543201771, 0.22683103775334915, 0.99952611727862, 0.9977404584036973, 0.2611185071885217, 0.9996974234599995, 0.9999980837959871, 0.9749748410553886, 0.9982706284856098, 0.9699079483953933, 0.9971185175655692, 0.9994037937759116, 0.984600158094244, 0.9980707951341511, 0.9953093677615478, 0.9966659992667407, 0.9952405130385855, 0.9996201908762806, 0.20265679832720912, 0.9990736765772763, 0.9995017882924551, 0.8773136659218499, 0.9998181627268077, 0.9981589354749348, 0.9135822035775983, 0.987776311400715, 0.9985247672866335, 0.9984473642863215, 0.8352200983278739, 0.6754108045109957, 0.9982688495046677, 0.9984728875477805, 0.9941046760318609, 0.982541971066437, 0.16796165528846624, 0.9715281326823938, 0.5827269873073015, 0.9995211045740248, 0.9811379141564625, 0.9999481494146849, 0.9857654307298068, 0.9987391134080021, 0.9957536047829475, 0.976708429139357, 0.9905369909719889, 0.9881602501829645, 0.055267917386035884, 0.998816695212602, 0.9981540020776766, 0.8376836913364887, 0.9881755223048316, 0.03206766091704141, 0.07115587909662507, 0.9925512173777425, 0.9962595559178894, 0.9256874698225843, 0.9856051863907648, 0.9818706267204079, 0.9729026779788105, 0.9925478318039411, 0.9776656632126701, 0.9880277155084207, 0.9992034957678365, 0.9987056786784425, 0.9975298144793717, 0.9966909745116942, 0.9875094546210574, 0.965181288073976, 0.9875488076538804, 0.9980211529355709, 0.998471960458017, 0.9816046465475808, 0.994237765803239, 0.9504384941444627, 0.8018329243199698, 0.9997699125124763, 0.9714583474061899, 0.8900558607961782, 0.994954082449431, 0.9974377602354277, 0.9990880742552407, 0.9929803557939174, 0.8231980784044954, 0.9751495803800234, 0.9995101740166675, 0.8906441425245711, 0.9215339118469704, 0.964286334529503, 0.9942703613550395, 0.998662393241002, 0.9998845311929391, 0.9996218451497197, 0.9999218163419258, 0.04670293259242404, 0.6248453595512728, 0.9358567838593908, 0.9990948574303101, 0.9991195480506202, 0.9888247705328048, 0.9997830220701601, 0.9985382074092494, 0.9978946698375286, 0.9981437664832925, 0.9439758990379588, 0.006724075367947764, 0.9436660975414563, 0.99221143769139, 0.9999866295077223, 0.9912546168995062, 0.9964743724751408, 0.8773136659218499, 0.9934418554224139, 0.9935366244471615, 0.9155888921624442, 0.984227348484527, 0.9999036730749767, 0.1276085713351598, 0.5171672429309827, 0.976612873585738, 0.8189257009055699, 0.9879061445188938, 0.9999115872139194, 0.39209080568702437, 0.40364109846570917, 0.8773136659218499, 0.6583859602360905, 0.3256632153318183, 0.9997434273998341, 0.6459788735106714, 0.999970882735699, 0.9784214648624547, 0.999477064375793, 0.9888062225463428, 0.9999596562598484, 0.9912349385914554, 0.42135672515253053, 0.8773136659218499, 0.863592424371607, 0.8023624915855763, 0.9999371137525381, 0.958825445872023, 0.9998755839654525, 0.976519082721071, 0.9999899741225863, 0.9997916569586549, 0.9658122402061322, 0.8773136659218499, 0.9996809019829609, 0.9999978061198073, 0.9981324704836251, 0.9919182706711528, 0.964899393382306, 0.8773136659218499, 0.5900238027785109, 0.9741792879252907, 0.49540209815364483, 0.05576815678033826, 0.9999435425811641, 0.9962032354149419, 0.9968102918726143, 0.9098608838504594, 0.9998125185494261, 0.9971102456762094, 0.0027010333478521354, 0.9507027813757677, 0.9995549540537486, 0.9999443923903791, 0.9252432558852063, 0.9979497164562421, 0.31828722579903934, 0.9880631617900854, 0.9960997367453759, 0.0012802102302739325, 0.99898825317965, 0.738630621370462, 0.9999790716324212, 0.9996245906694442, 0.9999993950741606, 0.9993131949693748, 0.9963312403910293, 0.021507876785112564, 0.9996730398635523, 0.9622849717980448, 0.9128725665711074, 0.9997611457762542, 0.9296554426219417, 0.9989735040285447, 0.9999670832862404, 0.9929729551047235, 0.9675461619016098, 0.5018213158688032, 0.9814184500821839, 0.9982322889800834, 0.9755434572127892, 0.9866838683020159, 0.9994758952821012, 0.9997920943079749, 0.9997914462151157, 0.7994347690784733, 0.9986540355768503, 0.9990229098900107, 0.9942599163285837, 0.6038022129781863, 0.9732499773721363, 0.9730763821121424, 0.5439486619160955, 0.9980838450844071, 0.9919932802195437, 0.036574932731097895, 0.9997683734076878, 0.993968952185881, 0.8714099354665256, 0.9834611582914565, 0.9989608564640209, 0.9293095200425777, 0.9971404661454281, 0.8268860071144017, 0.9985155639447897, 0.9999367533974446, 0.9022901274999097, 0.984056552158051, 0.9916614312224242, 0.999999911331576, 0.9616445133851751, 0.9206228895214434, 0.9969037836942524, 0.03629966550545995, 0.8773136659218499, 0.9995195059498027, 0.13317474702258855, 0.8059251491353229, 0.9644152128287254, 0.9999828471772865, 0.9995087111338666, 0.9999792087938858, 0.935313788584986, 0.9974547561739748, 0.9999528118471527, 0.9968951153159705, 0.9999790253309176, 0.9985963688947065, 0.0016959055117307647, 0.997382667148366, 0.9219539370133729, 0.8773136659218499, 0.7141656056327835, 0.9998632985110038, 0.99281582716917, 0.9982741807957266, 0.9998044130700248, 0.999542044093015, 0.9699715027196082, 0.988954833989982, 0.9797840163160402, 0.9965439729253059, 0.9967589160319575, 0.9985679230841674, 0.9562288643349703, 0.9482571648751251, 0.9993406506559921, 0.9979841557584014, 0.9894566221526939, 0.999715257615544, 0.9999215751951862, 0.9999690690255133, 0.8949232281541425, 0.9933537617009429, 0.9910242672730868, 0.9443714034255539, 0.9991974790618868, 0.23050510702583696, 0.9260942748065005, 0.9811352303045648, 0.9915653138904903, 0.9990733263806183, 0.9998708075494597, 0.9907244083389474, 0.9901014713927279, 0.994130353311845, 0.9959528661449163, 0.9676144676215911, 0.8773136659218499, 0.9824187003681821, 0.9788563987440317, 0.9964132533834213, 0.9713049046814268, 0.9991854661487788, 0.9993184410705255, 0.9978389817871245, 0.9202247003667997, 0.9998923006307916, 0.8773136659218499, 0.9995175096926662, 0.9971237409672163, 0.9998537784974834, 0.8917817070742893, 0.9999951214952615, 0.6719106732340167, 0.999874267224203, 0.8049111541601377, 0.8773136659218499, 0.8877010887139392, 0.09325039929814033, 0.9636696834229521, 0.9518870461744362, 0.9938950920263059, 0.9994688681983601, 0.5446251330074765, 0.9487895167861289, 0.8773136659218499, 0.9998049961544372, 0.9147412626382794, 0.7026248233095833, 0.09680257645038885, 0.9999141900032087, 0.9652697689908003, 0.9993668975765387, 0.9264231586752395, 0.6635560899635915, 0.6802387588169907, 0.9958228681010833, 0.9966374870168672, 0.9734587151611969, 0.9951186315028601, 0.9990133336552353, 0.9999986726019002, 0.9007619621140509, 0.9999997213919768, 0.15586177340490287, 0.9947337928363935, 0.9996944674231244, 0.9631094898227114, 0.9987286066486861, 0.998214318865796, 0.9989774402553521, 0.32307009089133937, 0.9999871508353276, 0.4884536500220536, 0.8773136659218499, 0.9996973398379557, 0.9995193157861538, 0.9862748527252939, 0.977789167155279, 0.9994030030330753, 0.9733598853798545, 0.8773136659218499, 0.9999993000622752, 0.9909374555143003, 0.8045541226328129, 0.0007053752087826452, 0.9981268733549283, 0.9972238127841457, 0.9999595950349383, 0.9999977796542091, 0.9946693720572863, 0.9993589844152018, 0.9999455054768833, 0.9777817737300262, 0.9997331610643599, 0.9885619679736054, 0.9997233525504643, 0.9982919687139167, 0.43848032711878937, 0.9849516052346816, 0.9994483461213178, 0.9134178312118434, 0.7831056028390592, 0.8126816799307237, 0.9990973157688897, 0.9691938008402099, 0.9998490804575056, 0.9918032339617008, 0.8773136659218499, 0.9999922345723985, 0.8773136659218499, 0.9994444912484364, 0.9999765834962785, 0.9994801591460951, 0.9992668771443819, 0.9823718802433115, 0.989964980269389, 0.9996933664159765, 0.9999516716860154, 0.28899133718201425, 0.9999998403314856, 0.6936504484641149, 0.9999543328720403, 0.03995554401444801, 0.38692728045013824, 0.03964089439826617, 0.9964199090973367, 0.9625609742220596, 0.3933420078453276, 0.8594002242444108, 0.1417506239435597, 0.9979072700723329, 0.9811182296168011, 0.9071791363645884, 0.9995560800783897, 0.9645215254528795, 0.9532751921088558, 0.41605292100515745, 0.9993628424263791, 0.9496130275016618, 0.9874131154428807, 0.33343206823854576, 0.9357265699351234, 0.9666303667400012, 0.5825210682232644, 0.956539701686002, 0.999741490384483, 0.9985707257795668, 0.9989791326701367, 0.9981942333457895, 0.9990098215561358, 0.9990979358248012, 0.7001056207723261, 0.9982903384590069, 0.7414480988425433, 0.9904932771919126, 0.8588417749713605, 0.049173192284272735, 0.8773136659218499, 0.8910377113593613, 0.9896987133400832, 0.999937831682373, 0.9990487924859531, 0.9968943182005652, 0.9986085398774412, 0.999960515863167, 0.9992140310633798, 0.9997055079231988, 0.9982567666537817, 0.99973232277712, 0.9977714029079748, 0.9991241925145363, 0.9822972994360181, 0.9583221366343607, 0.9555823249823698, 0.9992801165072086, 0.9941353230852025, 0.9999952185550827, 0.8524006560348231, 0.9983382778003604, 0.9941359478479215, 0.99999521712112, 0.999972202625267, 0.9937939254772695, 0.9668865768973428, 0.9846229055802235, 0.6185049489980119, 0.8773136659218499, 0.9443230012596174, 0.9998354554002408, 0.9923771956104768, 0.9951232184011312, 0.9998432761714519, 0.999967042197902, 0.7004732613456711, 0.9795523467742938, 0.9834118829977176, 0.5536935443474901, 0.9996731229368556, 0.9973656953197497, 3.560642785963999e-05, 0.8773136659218499, 0.9983397527368562, 0.6880069006130608, 0.38686587248396626, 0.9985519456376585, 0.9336890323351169, 0.9998016396332599, 0.9754534997412088, 0.9999592874788802, 0.9993724519510134, 0.9372131920645607, 0.8773136659218499, 0.308397553837155, 0.8773136659218499, 0.9990425660135509, 0.821399785363029, 0.9574827304196298, 0.9800762636551237, 0.9700403370896956, 0.8371995809588458, 0.9932795032179735, 0.9999984940987583, 0.9999582293695679, 0.9060478776903503, 0.9999744484081682, 0.9454695514232154, 0.8773136659218499, 0.9935485434710363, 0.09763145178303942, 0.9743055932068702, 0.9696068570144553, 0.7988884823253974, 0.8773136659218499, 0.9935082553462569, 0.9995917460869854, 0.9972478169000151, 0.9988316900683051, 0.916674882911361, 0.02109853021632928, 0.45800551828837854, 0.985904675306395, 0.9538840539278616, 0.9975799246008284, 0.9946714962446138, 0.7692394794483267, 0.9734507628352922, 0.8283371707173576, 0.822427641196025, 0.9989832721531579, 0.9997241812003609, 0.996583083401347, 0.9791199569990775, 0.9995972790732537, 0.9973224286670523, 0.9992654736232152, 0.8189189951870512, 0.9998580971624604, 0.9944097176861987, 0.9962287611541303, 0.9798117647138225, 0.9999649258623956, 0.9882333425198325, 0.9989031567574291, 0.9852071063208508, 0.9999978550648041, 0.2879613392458703, 0.9964089870770106, 0.8250654548519816, 0.7845131121939896, 0.04986803392756839, 0.9995764648494815, 0.9999362352707991, 0.9999828752221377, 0.9999262322214972, 0.9990768167720708, 0.9847456358862651, 0.4584558046185698, 0.9980540491965332, 0.9999741220790284, 0.22104313750352425, 0.8773136659218499, 0.731540631858386, 0.9999834355468888, 0.834992174043469, 0.9988647631405123, 0.24422741407332063, 0.9999980356758217, 0.9127860834937953, 0.889103369404613, 0.9928411162907735, 0.3466223714167663, 0.874125746906848, 0.9388320016751903, 0.9984255833616712, 0.9991298219766723, 0.9767964035178208, 0.963425342276584, 0.9998882224003911, 0.9998871628243169, 0.850217845021905, 0.9953005012518067, 0.9936333625194294, 0.9916841008849833, 0.9997885836957607, 0.9979635351614253, 0.7914526898873508, 0.9825793772995721, 0.8773136659218499, 0.9656740577742111, 0.9413654008950434, 0.9991935689949673, 0.9235968824387326, 0.8953666738979842, 0.9990686125690388, 0.9995484471188925, 0.8773136659218499, 0.9927719575986826, 0.9986842491786929, 0.990887471806203, 0.9999971826515814, 0.9999862674145439, 0.8773136659218499, 0.9998349097863637, 0.9999500415512462, 0.49939461768543686, 0.9946484330540456, 0.9979193754312513, 0.9945696407279545, 0.9870678309171625, 0.00030461998312671963, 0.9416097810325074, 0.9988778563373649, 0.8773136659218499, 0.8773136659218499, 0.9811648652197382, 0.990453084550062, 0.9999315966557742, 0.9839547848346138, 0.9995861727821304, 0.997049132631886, 0.999998267472684, 0.02072690066849613, 0.9996352591692029, 0.9709487130384769, 0.9995021705003072, 0.623188804262918, 0.9993316797807077, 0.9984363573381636, 0.9721493054651805, 0.9976413876615615, 0.35225120768754187, 0.9831512595765309, 0.9999483882548232, 0.016408444087079428, 0.9994888396824204, 0.9999005070248187, 0.9998495807145713, 0.9820229794216567, 0.9989473843273057, 0.9989803517584583, 0.7606388221150983, 0.8568630090070973, 0.9998098951278491, 0.990158038277818, 0.9871506597498929, 0.80346332611786, 0.9750879400181829, 0.8154635899526409, 0.9897605175526354, 0.18937719313867707, 0.8894807996638356, 0.9943967628079603, 0.9491002354727677, 0.9771357615484331, 0.9867662007124487, 0.980528095316757, 0.933384875735276, 0.005103069599995957, 0.9997429751368191, 0.9999247917155877, 0.9665818295295139, 0.8972730792056414, 0.9950488250589, 0.932329923931809, 0.9976556676101884, 0.9991276353113153, 0.999026969893392, 0.005750381999841787, 0.40186630506785664, 0.9999808751908174, 0.9991005264086333, 0.9752411858841662, 0.6298134830677772, 0.9999593920349301, 0.9793707708874503, 0.8773136659218499, 0.9999690846012499, 0.8950092213387195, 0.9987449703583766, 0.9994661575104419, 0.9642981316414241, 0.31491908534135127, 0.9997390076504006, 0.9996822970106035, 0.9992200934950202, 0.9944874835913798, 0.9777227751197419, 0.999251664984535, 0.8773136659218499, 0.9999995368789716, 0.8682861299203501, 0.9869410267065499, 0.8581684528000034, 0.9603160870059546, 0.984111717571763, 0.9998438500651158, 0.5818660042251813, 0.999485764296845, 0.9850463474652574, 0.9991751630911364, 0.837348341442084, 0.8607561008732837, 0.9937697428156693, 0.9924425884453143, 0.9995004771001358, 0.9751291763841721, 0.9922578718905251, 0.9973812687252351, 0.9999155858152298, 0.9932298814061731, 0.9989688776408088, 0.996595925782173, 0.9994466224000198, 0.9926524624192911, 0.9994072301061943, 0.9953859440087243, 0.9994872298476634, 0.9811496961400753, 0.9051283737796846, 0.8773136659218499, 0.8368647233181551, 0.05992345240398585, 0.9940227067645343, 0.49256191221382284, 0.998080364474771, 0.9978123976445306, 0.9994239636766333, 0.9999995618153944, 0.6174509329745185, 0.9950277687562961, 0.9924985103940266, 0.016728503129317875, 0.9949679960230168, 0.9789518151678633, 0.9979975876870378, 0.9998890317018739, 0.985722628005147, 0.9305309894421413, 0.9948900321770102, 0.9868477533812426, 0.9993161707255674, 0.9896115794430913, 0.9940365477942449, 0.9694794677287152, 0.9986916332150005, 0.8773136659218499, 0.9984361868626676, 0.991897094101405, 0.9999823960759603, 0.9891972993611846, 0.18672597983997533, 0.7680753361700663, 0.9972955339807495, 0.021026083315758448, 0.9904034802644327, 0.614144539386685, 0.9862702151693443, 0.9983305082020929, 0.9999840057306137, 0.999943160961021, 0.987154939331581, 0.7349536420796404, 0.9661588339272815, 0.9907374334148265, 0.9999925347998289, 0.9954809358732445, 0.9994750196322445, 0.916074042266239, 0.9938772877548694, 0.3252628429767114, 0.9969652163323817, 0.9991522009084892, 0.9982096524864174, 0.9930060215986897, 0.9948372697568607, 0.9707741937710094, 0.9966306470656707, 0.8659358293568475, 0.9844401491807038, 0.42221885282810057, 0.8773136659218499, 0.9952222604138081, 0.9985364999526097, 0.8896206097119148, 0.9984422713844777, 0.9965721251889172, 0.9998791562662667, 0.9993917533130063, 0.9996347767600544, 0.988104784366101, 0.8006826803190706, 0.9964548189959964, 0.9851770248060724, 0.9954704018007317, 0.9974967193733763, 0.999867588165959, 0.9989500812719454, 0.9737234363121118, 0.3900696516115365, 0.8773136659218499, 0.9642105250214038, 0.9963826739299052, 0.9233121832382971, 0.9970091881004592, 0.9389534116327246, 0.959770199333514, 0.9983100397399366, 0.9999727016841574, 0.9998433727315016, 0.562429979214143, 0.9985451814192641, 0.9646350275253313, 0.7518120968506643, 0.07186579238543082, 0.9923048320127196, 0.9915481793252772, 0.9222558541306348, 0.9995583482617656, 0.9866761102140247, 0.9856712771468089, 0.9996648266098517, 0.9998887067071159, 0.9836058282133183, 0.799408097964278, 0.9245340872886822, 0.7077029751770988, 0.8773136659218499, 0.9970456317380849, 0.998910608953485, 0.03755136576734422, 0.8773136659218499, 0.9998825372102911, 0.9811838392471426, 0.9999354741218561, 0.9963322877954128, 0.9988975769442144, 0.9992850792411805, 0.999928879742131, 0.9581432253011605, 0.9997336881598066, 0.9358224702928788, 0.9941281238634864, 0.892880391159189, 0.8773136659218499, 0.006803259188858443, 0.4862554471169547, 0.9989614603935689, 0.012525904217822511, 0.9975422544782969, 0.9469534985686815, 0.9793380082676042, 0.9845781786603054, 0.9999923987441355, 0.6653830883076635, 0.9993599517342382, 0.996245119431078, 0.9997470432693559, 0.997707974776611, 0.9992440509754532, 0.857928390482826, 0.7912812597051904, 0.5992303305311091, 0.9933126760204608, 0.9990343896473934, 0.999900387446295, 0.9999479057905637, 0.9999698908225381, 0.8965524694121936, 0.9938952135629608, 0.6177916899679039, 0.9994055390272119, 0.3801570393065753, 0.9107229738487952, 0.9986695769021984, 0.6859670640977638, 0.9999944839641317, 0.9994051227202443, 0.00637244934976447, 0.9994824415468109, 0.9991341752982762, 0.9999965899619078, 0.7421089004334142, 0.9927507605182826, 0.9941296039918889, 0.9606956545255045, 0.9999367620719806, 0.8877305184117548, 0.9923361447374488, 0.0003711592847467334, 0.9900856241113944, 0.9913527970929468, 0.9577372715421426, 0.9908535359851846, 0.9995455978283274, 0.9998814031537829, 0.9963235694657896, 0.998727318508181, 0.9243994906803331, 0.9998399606373046, 0.9998370856331434, 0.9955204895647576, 0.9938251639619563, 0.9796131803524915, 0.9993337052784653, 0.8773136659218499, 0.9981713794814793, 0.9948085592661634, 0.9621076591878382, 0.9957173047509718, 0.9965890544451741, 0.9991887261060842, 0.9983436126388032, 0.9998511231287912, 0.9999886391830286, 0.9977049001638191, 0.9982662892999778, 0.9999778668504552, 0.9467002705557233, 0.6355343396783016, 0.9980608229226713, 0.8773136659218499, 0.9998713407256179, 0.9989352394343468, 0.9371278305605466, 0.9999993249866634, 0.9999572434036512, 0.9989538817633049, 0.9985919711541562, 0.995792585994079, 0.4905607646837121, 0.01187990138201277, 0.9995769702773691, 0.9747810156286681, 0.08652659226854419, 0.24334265750792936, 0.6854385902368716, 0.9982418479969722, 0.9998857415785113, 0.9996307891563707, 0.9999633903086611, 0.05726393355599931, 0.9910964372718105, 0.99999458903092, 0.975631048014211, 0.23987537800976103, 0.11844499923618741, 0.9999999581400536, 0.9991910879736654, 0.9998544659318257, 0.9978488181735279, 6.50205198057045e-05, 0.9975541273073093, 0.9992267127266208, 0.9998251134278452, 0.999405348199294, 0.6859989018014044, 0.9708575535897572, 0.5089410820754182, 0.9996733853595936, 0.9999940749061128, 0.9947383263382544, 0.9950330622899369, 0.029922208790861347, 0.9526048945048886, 0.9970571619577152, 0.0020709831675693297, 0.9998495450628848, 0.9979306071670483, 0.8773136659218499, 0.9910349618919109, 0.9996411624605422, 0.999659184406151, 0.9892295367733912, 0.9949912678376741, 0.345813074848989, 0.997669064934596, 0.8773136659218499, 0.8825945257549583, 0.962399208095174, 0.9949069814361504, 0.9805749420010981, 0.9999998724578659, 0.9995921836983658, 0.9196758438227184, 0.9999006509352029, 0.9980894575023309, 0.9776295034718305, 0.32799887303215075, 0.9942882223615964, 0.6179527224307502, 0.003645112895117231, 0.9990008903587504, 0.9993974109211211, 0.961953873775349, 0.8773136659218499, 0.992066547471002, 0.9999565946962075, 0.9999738952711212, 0.9999980029861647, 0.01799074710538889, 0.9999659740817399, 0.9973688613343381, 0.9981103925442036, 0.9996864844636786, 0.8773136659218499, 0.9420830166185825, 0.9908904136401243, 0.042349795821382326, 0.9999989716121847, 0.9999207451837824, 0.9641092759020164, 0.15091172588170443, 0.9983575859370064, 0.3379739725419049, 0.5573780693030892, 0.9976883867352321, 0.9821645590381045, 0.9999969107147937, 0.9977861265762282, 0.8773136659218499, 0.8773136659218499, 0.9999995274122921, 0.9618916697536343, 0.9998089094381563, 0.9958733863949486, 0.9985483176843594, 0.8773136659218499, 0.9972628627881382, 0.9999899929514283, 0.9999227027274564, 0.9612590195360827, 0.8773136659218499, 0.9999977985058202, 0.8169271556770565, 0.9840133079961066, 0.9995322944479531, 0.9999984429405134, 0.9957013236547756, 0.9999045880419706, 0.9927959845017293, 0.8900593672949968, 0.9996777942163311, 0.9998821169680971, 0.9843944227841781, 0.994716689631652, 0.9899428529717395, 0.9546269410946869, 0.998629289658674, 0.9991608846282631, 0.9874125649612027, 0.8884559362230601, 0.999162248029292, 0.9960785980516147, 0.98244250588741, 0.9651312923907427, 0.9999989948955482, 0.8245503357881376, 0.9900821962749832, 0.9984480361628203, 0.8773136659218499, 0.9999970538323184, 0.004490274052976797, 0.15655729326755538, 0.5102002172257891, 0.9995507726029477, 0.9977185725260842, 0.714246930541493, 0.9960067615088146, 0.9894184315396161, 0.9718303146006317, 0.9999648809214825, 0.9996063023312886, 0.9417121132321055, 0.7390883770055416, 0.8773136659218499, 0.8773136659218499, 0.9488353128076336, 0.9835903254968557, 0.9733844896301035, 0.35560471298379487, 0.9996995760661262, 0.9623339355740405, 0.9961794748338806, 0.6742725233416248, 0.6261419907441397, 0.932727238717557, 0.9959217131157128, 0.9999907569496953, 0.9690908493934993, 0.9900378343848364, 0.5126354869839284, 0.8773136659218499, 0.9585029667716107, 0.853194218424299, 0.8773136659218499, 0.006346104895040191, 0.9942930063259228, 0.9997177839438336, 0.137596021655621, 0.9353538860265828, 0.7078147122750233, 0.9997583088095919, 0.00026806355241340004, 0.9988864642561609, 0.9966076900593736, 0.9999645422172556, 0.7324390311297179, 0.9865679592128848, 0.9592030059402059, 0.23051684664521935, 0.9477484113129494, 0.8773136659218499, 0.9962296831319828, 0.9999286051114215, 0.9883772371175875, 0.43043024273533165, 0.9964215630860015, 0.9966943835714633, 0.15034130183554323, 0.999145644373281, 0.9960784444250417, 0.9857531593466291, 0.999879535396064, 0.9956056694594292, 0.9992578001500957, 0.9755693671807357, 0.9999538010094882, 0.9916042060716371, 0.99905096097597, 0.9996722455849326, 0.9914464878800444, 0.9938055873835349, 0.9989737182058441, 0.999989101541281, 0.9350001906497719, 0.9635300936559396, 0.06550544152231111, 0.9999992867811571, 0.9974217281961193, 0.9798279463446983, 0.049681660903876594, 0.998035907923065, 0.9975149939691323, 0.9813465582646707, 0.9904369447293876, 0.999921963755819, 0.9999999983439969, 0.9812507743248504, 0.9077694150017911, 0.5547479652685446, 0.9939372918563055, 0.9945160309763516, 0.0010161673717198859, 0.796655656672461, 0.9998687204155408, 0.994288661798729, 0.19382674280072057, 0.9469764887403559, 0.9972001406034571, 0.9994800003514165, 0.9993860045240776, 0.9998737666642855, 0.984278838748813, 0.9927054991029257, 0.11787797892656837, 0.9839862958773935, 0.991826853527539, 0.998619246410431, 0.9637525268166863, 0.9982938505733645, 0.9763329457625768, 0.9846302853926924, 0.9876533059146114, 0.9992729126990021, 0.9990021607159656, 0.9756696592397175, 0.9998924848424101, 0.9959262935865485, 0.016664348783395906, 0.9999949857671303, 0.9996832082478508, 0.904881650652731, 0.9218497171502796, 0.08012762273895381, 0.9996127406912476, 0.9735097789709151, 0.8773136659218499, 0.9948933416431123, 0.9965983359378803, 0.9908955124868521, 0.8656600617505468, 0.9992654472981543, 0.9996849435438494, 0.9973448080303675, 0.9975802078736644, 0.9183079756192603, 0.9999696704061904, 0.998830636220869, 0.9923878440486409, 0.9698418780757447, 0.13882032794119312, 0.980817268867408, 0.9997987633521543, 0.9988664080497476, 0.9897936759907099, 0.9988024368243046, 0.9725387548193772, 0.9653870914442592, 0.9990595103474759, 0.9840805278286162, 0.9993151359882466, 0.9999694743866918, 0.999918867646558, 0.6222064387197922, 0.9999488227200367, 0.9457267688822634, 0.9503950206181988, 0.8648386203272801, 0.9921494616653475, 0.9930179714666786, 0.9997176802516345, 0.9868055193686247, 0.9996467897837531, 0.9996677170529806, 0.9841630117317529, 0.8311344607594651, 0.9998054353906171, 0.797482719688251, 0.9997529399541994, 0.9745237861274241, 0.9995198202488689, 0.9897089979619363, 0.99999294753636, 0.9835562279601239, 0.9016158009825131, 0.9156219151867433, 0.9997900806526321, 0.9903007439355757, 0.9999998986101392, 0.9749131997388645, 0.9976908092100445, 0.00018357140768286015, 0.8773136659218499, 0.9999749415854251, 0.8773136659218499, 0.33574459140431995, 0.9942586615153348, 0.9957356472757196, 0.9982499178263333, 0.9962341654887923, 0.06955638927937062, 0.9999517391983946, 0.9996404939419128, 0.16604439523497547, 0.9950868016053084, 0.9994267307222366, 0.9677602182935944, 0.04630953518701641, 0.9970910342492383, 0.998962110507939, 0.999627358208399, 0.9895712853562959, 0.8773136659218499, 0.6728773530310278, 0.998041218810969, 0.9977271500572823, 0.9979459632903712, 0.9913805372686121, 0.9981449841089446, 0.9782761559406501, 0.9993191413490397, 0.998703027502843, 0.9351347388864893, 0.9973202261555297, 0.9982973886130418, 0.9962939081756438, 0.3101203408395854, 0.9775876527720254, 0.9999986278971154, 0.9708302240430717, 0.9992868067142399, 0.8773136659218499, 0.001033177203089062, 0.9332019994064948, 0.9900459636434987, 0.9976249813359944, 0.994976249659605, 0.124389833221886, 0.9959206300569579, 0.8773136659218499, 0.999985828439941, 0.9997371673307319, 0.9693330260671548, 0.9980866845544552, 0.9999445530003074, 0.9994505422177047, 0.879150222295236, 0.8773136659218499, 0.9986155596630079, 0.7667124098684529, 0.8773136659218499, 0.3474888377829497, 0.9864025754683593, 0.11817571956703382, 0.9884450048650685, 0.6595966841667527, 0.9999133036889356, 0.9984000444931981, 0.36915140501803095, 0.8773136659218499, 0.9847385589869353, 0.9998661630200967, 0.9958165487188276, 0.9999298916483967, 0.9898390211407105, 0.997728330250222, 0.9917541013882422, 0.9999927734268659, 0.03721753261464762, 0.9735981237355689, 0.954907857036738, 0.9994151846534384, 0.9944738457929749, 0.2398358283009571, 0.9941484578904742, 0.9928695488644455, 0.9999331745436733, 0.8773136659218499, 0.9618391338357588, 0.9998143426308312, 0.9362621619315407, 0.9939727708427588, 0.9912594799078254, 0.9992279957142552, 0.02376320748488422, 0.9996221335608108, 0.9999951999272144, 0.7976845433802742, 0.9999967073333861, 0.9989219081286671, 0.9985350324485973, 0.9984426099071352, 0.9994372984629417, 0.999323456636329, 0.9990599118724288, 0.9995905835054446, 0.9981576623850306, 0.806345798123562, 0.9982570321157471, 0.9627968210203183, 0.8773136659218499, 0.9999995715261134, 0.6245994459075237, 0.9993439373702113, 0.8773136659218499, 0.9914054488837905, 0.9843567103973557, 0.9984704202255826, 0.9998352356213474, 0.8236031115309581, 0.3960105255181304, 0.9664897178124007, 0.890553596798961, 0.9996534172142192, 0.9968895895684918, 0.9683240534871781, 0.9293452089650261, 0.9917682952446735, 0.01832249807817213, 0.9968321994153841, 0.9999981131794052, 0.9972591184380556, 0.9999299919490561, 0.04399084289021873, 0.9999979419426627, 0.9746324905870789, 0.9996087353000899, 0.9996534490211232, 0.9960436718599481, 0.9949087117198442, 0.9995148413395041, 0.9946733243785414, 0.9954688286841491, 0.990247106680386, 0.982818257668602, 0.9999714308193134, 0.9998684647428067, 0.9927752205625303, 0.9971516148796511, 0.8773136659218499, 0.9923277031142828, 0.9766108016452928, 0.9937721002425413, 0.8773136659218499, 0.9995554066515402, 0.9993580868099748, 0.9998871117270439, 0.01598454307012926, 0.9944772271135702, 0.9979990627187902, 0.9992737353365633, 0.9999310108526313, 0.9887488821041668, 0.027113235548489423, 0.99757131038908, 0.9991462105786147, 0.9822584004168589, 0.9720583689759057, 0.8773136659218499, 0.9998253084139951, 0.9623963549135217, 0.9417605449451398, 0.9869417607175442, 0.6025499015047296, 0.9707810996813938, 0.7386364893122237, 0.9881850383005009, 0.9931225359652753, 0.9997157642485313, 0.9998634947634689, 0.8773136659218499, 0.9377065299910452, 0.13204778685594956, 0.9967580072747099, 0.6738331068185645, 0.9995165483748667, 0.9999790616554759, 0.999226110592828, 0.9857956848520668, 0.9987818461259208, 0.999115867273677, 0.9999786911510476, 0.9997666072892416, 0.992101121851853, 0.9989058190504407, 0.6049051274672735, 0.9777082389707532, 0.9801133702172077, 0.9996867626476164, 0.9998622994608093, 0.9964690468509814, 0.9835548961961297, 0.99774818513978, 0.9726104766314756, 0.9277304094023249, 0.05223769875602376, 0.983921182186435, 0.9999999238044202, 0.9820010288706998, 0.9771909169374264, 0.9726663693489308, 0.9959765006388986, 0.9885312696524089, 0.9982615434762796, 0.9905486652050077, 0.9996727966912492, 0.04525623774482248, 0.9956390773428658, 0.9997912722526945, 0.9974873296620579, 0.9999989086615904, 0.9999327121830764, 0.9991422693593613, 0.8904436427979469, 0.9522690234731397, 0.9999227739095544, 0.915292523169279, 0.9964660587524486, 0.47685106194745563, 0.16005803797461285, 0.6141801925232991, 0.8294642691767161, 0.9999439884442203, 0.9999852075483129, 0.9898871599529154, 0.01856374483614248, 0.9999530531536455, 0.9983056513986256, 0.9983495695407884, 0.802972117703581, 0.9986791795103768, 0.9988644796112872, 0.9949255799015564, 0.9999956762896689, 0.9893422409382101, 0.9841330173204944, 0.9999998541671706, 0.9992692836485525, 0.9972638057249587, 0.9999994032105028, 0.9999291272245031, 0.9988819802273381, 0.727043995487167, 0.8945618795545488, 0.9995084011684507, 0.9998670131948787, 0.9047961617856188, 0.9968393546530868, 0.9973637005648349, 0.4900861630156413, 0.0096327603303334, 0.9924758368447146, 0.9989825618352312, 0.9991515079656178, 0.9644040349056523, 0.8773136659218499, 0.9998207219522492, 0.9939252173380276, 0.9944216975647753, 0.9642880231100491, 0.9993028945669279, 0.9995928806116248, 0.996797141823704, 0.9990368675384745, 0.9835826168943926, 0.9995519065122835, 0.978357096683932, 0.9996221846944628, 0.9696885336655918, 0.999999539413262, 0.9721099136767416, 0.9707530484971938, 0.7875372089561218, 0.9836275215733494, 0.8773136659218499, 0.9883484456753733, 0.9900546278435394, 0.9999824705696846, 0.9966866566548768, 0.9757970069209826, 0.4911543995011204, 0.9942996952345025, 0.9997985057897711, 0.9966547799771633, 0.9991075758921193, 0.9565583697230977, 0.9699556628225826, 0.9847031062146662, 0.9350743390569132, 0.3782919422740829, 0.8904434729969523, 0.999773332191124, 0.9967929154723726, 0.8773136659218499, 0.8773136659218499, 0.9997310202924188, 0.9938804873589387, 0.8561224761973565, 0.9996844201072079, 0.9999950213057649, 0.9997921390773765, 0.9997488148158468, 0.999934401968237, 0.79367530249041, 0.9872599398411204, 0.0323631693039736, 0.9996833427358307, 0.9992999063271134, 0.9787003669953681, 0.9992530839785441, 0.950836004536311, 0.9978189836284056, 0.977917366122397, 0.9956916457647847, 0.9994697080378336, 0.5307303584565266, 0.997357715586008, 0.9999926841669535, 0.8896343861556401, 0.9984594274946214, 0.8773136659218499, 0.9997863726726427, 0.9999973739187368, 0.9991911150433991, 0.9980813368990886, 0.8932039841778545, 0.970406389789997, 0.9999991750705121, 0.9688871161196488, 0.9987851659320061, 0.9997908006922596, 0.9880904093210998, 0.8840717384944887, 0.9993498278581728, 0.9074863354862317, 0.9673950926503394, 0.9337397476171955, 0.04266547781746406, 0.9999911889287114, 0.04774535965353756, 0.9992055530552221, 0.9998725613333743, 0.10716205988896081, 0.9994918923304105, 0.9469510997303807, 0.9857778162827289, 0.9999404828741737, 0.9173612508523407, 0.9995330481659876, 0.8895447749084463, 0.9902177080073243, 0.9080636858361474, 0.8773136659218499, 0.9999757811415783, 0.9995744140131533, 0.9963681554616136, 0.9988985560018037, 0.989836220067134, 0.9985150573093845, 0.9980692837104487, 0.8773136659218499, 0.9794863140895649, 0.009208590614909636, 0.18512580645748006, 0.9999599509975071, 0.8773136659218499, 0.9938008143750855, 0.9980681957239098, 0.9982804488989995, 0.877091669179975, 0.9949474473212511, 0.9800924155460787, 0.999773950250533, 0.9959468839886484, 0.9941554844978439, 0.9679772860018165, 0.9852264996098987, 0.980261618706951, 0.990952606759848, 0.32903684613473766, 0.03702289017485754, 0.9964039433667591, 0.9957625081546224, 0.1309655540090688, 0.7678250340202717, 0.9998778773941739, 0.947305124837583, 0.3767371358479171, 0.9975636099123779, 0.9156624967920755, 0.9012103267591365, 0.9990902937144593, 0.9999826529961986, 0.9986512948827523, 0.9408421469922774, 0.973134642351351, 0.9998030122158325, 0.9798580298972698, 0.03043321194652965, 0.999895452195071, 0.0618961132648946, 0.030259421918419946, 0.9885217802653936, 0.8773136659218499, 0.9970106541165109, 0.9747131988930852, 0.9934216510056917, 0.9580491458067104, 0.9974698810931393, 0.9869276389879625, 0.9999112695569884, 0.9996594108181711, 0.8943725734199863, 0.9999321609917795, 0.9923878175414569, 0.9159407466317466, 0.9778754997243171, 0.9296270551981439, 0.994273262805249, 0.971574229129936, 0.8773136659218499, 0.9539690978538105, 0.9737116129144517, 0.7988530373655158, 0.9979988583019618, 0.9969319981935797, 0.9207202773106998, 0.9810165290619026, 0.9859884036262279, 0.15122927654242307, 0.8773136659218499, 0.9289386965178618, 0.9731906172714374, 0.9781830853798178, 0.9765166967634237, 0.9565835847546774, 0.8773136659218499, 0.9996420643127364, 0.12530595908343764, 0.4236124495085685, 0.8773136659218499, 0.9505540604045053, 0.9999611037213854, 0.500037553352406, 0.8494247419409021, 0.8406601036772985, 0.9995456202151656, 0.9999049313488543, 0.9997394726004818, 0.9992383144434148, 0.9979712203421836, 0.10617800267704802, 0.5907679961007483, 0.7759344308995462, 0.9602356148011406, 0.9992838092604365, 0.9988614890788587, 0.8773136659218499, 0.9616613252072579, 0.996864512837893, 0.9999139462780644, 0.9053378404326977, 0.8919886053520398, 0.01357468513034881, 0.9991447257653964, 0.999993983039326, 0.9995932225740378, 0.9583594409999101, 0.9777554187312653, 0.9507625305550592, 0.4829650404988037, 0.8177842764154759, 0.9983495563271673, 0.9848286405502762, 0.9993693746767369, 0.9123458530476984, 0.8553099303409665, 0.9877108849518285, 0.7883103697109652, 0.9692463009791451, 0.9912106876177813, 0.9976063140818604, 0.9998293818543177, 0.9005464076619352, 0.9999824290866407, 0.998086671900956, 0.8773136659218499, 0.9884525021223443, 0.9850312496178902, 0.9902945042293794, 0.7974577052367711, 0.9126293076129495, 0.9902578602989673, 0.9871283473917338, 0.9996682051248647, 0.998305314480964, 0.9768861910926897, 0.7162239793137714, 0.9980212541599409, 0.999299862990686, 0.999258757432997, 0.0005840420484303789, 0.9970184905428043, 0.9949639280476352, 0.028434116178323945, 0.9999093877763637, 0.027176025710745795, 0.18859899080304804, 0.9704940426540202, 0.9999953406859172, 0.9901382496423214, 0.9847880801519661, 0.9980395001715647, 0.8773136659218499, 0.9998185675529202, 0.9999993770891312, 0.9990297887521844, 0.5916637266751001, 0.9999435805392511, 0.9986587183740412, 0.999983462312241, 0.6212573310814136, 0.8096036762576541, 0.9733802047081452, 0.9998755592887373, 0.6177219387205976, 0.3659381720771472, 0.9999611312560724, 0.9601478464665649, 0.9837477497626399, 0.9989858675964849, 0.8868948476881531, 0.6644623459101296, 0.9527088915419746, 0.9678346058030398, 0.9965610247599872, 0.9409506106320796, 0.9998538728477094, 0.8773136659218499, 0.9956165449493362, 0.9970458653975599, 0.999878990999964, 0.9996066384154103, 0.9891082451471633, 0.9580375810595045, 0.9498656581458443, 0.9985456850592713, 0.9963822838682432, 0.6341574736577235, 0.47049983723188005, 0.9767889534057067, 0.9996905215599334, 0.9993925589053965, 0.9410083969631071, 0.9808334538177061, 0.9672621234225127, 0.998904084096179, 0.9976192147223502, 0.9243699224770844, 0.9997405783594724, 0.9995713047408747, 0.9985163443392125, 0.9927288296461438, 0.9951685737481666, 0.8773136659218499, 0.9991234363625364, 0.9964773714808184, 0.9999792831969999, 0.9894177281527922, 0.9980263179064287, 0.9909911936347185, 2.89684136713006e-05, 0.9957372055322474, 0.9969656761645884, 0.9996569644287281, 0.0057482561958594434, 0.9861540994224973, 0.999999329817792, 0.6705320421477085, 0.9994810899199, 0.9815942116647319, 0.4351942981527388, 0.9993267474634825, 0.551161094896796, 0.026999613277020943, 0.9998031004332272, 0.9999965908509684, 0.9972485232515266, 0.9487505492870119, 0.9973517251597619, 0.29576840020872147, 0.979544202417058, 0.9856428584588965, 0.9960293790930055, 0.9930476755407792, 0.9603137882821157, 0.9999766283093036, 0.9957052413132645, 0.9853889522645524, 0.9420346420362642, 0.9832914895513832, 0.9961929651508148, 0.9996881895207257, 0.8755022777702586, 0.09951641584761643, 0.8773136659218499, 0.990884869612887, 0.9854946021693273, 0.9912523033594471, 0.9862095262945487, 0.9401876360465155, 0.949574171477187, 0.9795821707746778, 0.999876436415366, 0.9349845457445675, 0.9902895417611196, 0.9921679248491312, 0.9894284136180652, 0.9718532876941117, 0.8607128672488963, 0.9967243083509841, 0.9988707403190168, 0.9825735895230345, 0.986265939360316, 0.6505730603294838, 0.8773136659218499, 0.5711967068849811, 0.989025954912808, 0.13938875047351348, 0.9205432355312484, 0.9822829832567224, 0.9966488500293594, 0.9980517627657031, 0.9993285333011086, 0.08554467240869683, 0.9964055045164576, 0.9999891002171846, 0.9598663325221, 0.998614889299686, 0.9986263106118222, 0.8477555866368319, 0.9972410007938722, 0.9999840558310965, 0.9998236957669959, 0.9999946405256295, 0.9904750377863543, 0.9999652158078303, 0.9998011876073739, 0.9999508976635206, 0.25493532228952087, 0.9999993695978877, 0.9992196749956764, 0.999957686681723, 0.9967568515490802, 0.9999965305545181, 0.9921032943387201, 0.9996172148431084, 0.9999554743251652, 0.9508042712780481, 0.10578963824718737, 0.8840018251032405, 0.9775478949010916, 0.7241043725438672, 0.9975579832060579, 0.8773136659218499, 0.3671441340539226, 0.9971685263869756, 0.6582703470305585, 0.9996404089733125, 0.9996203715184345, 0.8773136659218499, 0.9990645558313789, 0.9680705235505929, 0.9815536849346749, 0.9919098209754622, 0.9811075442659317, 0.991134701806301, 0.01787518992277967, 0.9998483123206522, 0.999517620845188, 0.7423495317596132, 0.9849175087196135, 0.9993481546804145, 0.8773136659218499, 0.8685191919110639, 0.9796554902823724, 0.9999911772994116, 0.7068328044971096, 0.9605983607622564, 0.6256305715772473, 0.9964222696394043, 0.9978988240967996, 0.99999939099459, 0.9991394521060162, 0.9999967976055135, 0.6076108444112427, 0.9970041534580791, 0.9991532794822803, 0.8773136659218499, 0.9997604328397265, 0.9887102681130108, 0.9980677148020204, 0.9999718262412818, 0.9751446515384049, 0.9830543818776453, 0.9999131713012213, 0.9995021379057243, 0.8411906759364932, 0.9939578594461688, 0.9719900693687468, 0.991735813523002, 0.8773136659218499, 0.9978789905350968, 0.9858370927566165, 0.9222251492964016, 0.9999562104850597, 0.9987866906844715, 0.9997271421525057, 0.9918522133847772, 0.9951169807650044, 0.8773136659218499, 0.9995393997255927, 0.9923127865480607, 0.9989859371101285, 0.9591751977135765, 0.9990177156847212, 0.9944702915747807, 0.5351526999624102, 0.9984181201604803, 0.9971036830522673, 0.9998795910613327, 0.9897273251281163, 0.9942640038176256, 0.9990888908906478, 0.9973185066645947, 0.9607983474788141, 0.9998861472877233, 0.7914760767961287, 0.9972965953516704, 0.9972160004024184, 0.998534399621963, 0.9646114235314918, 0.9325956892449604, 0.08092609455081988, 0.9667775142399999, 0.999171448332121, 0.19507709291337433, 0.9999083977399906, 0.985405261952703, 0.9889700054094305, 0.9999805192645608, 0.9979266422374681, 0.9995776436301285, 0.999500493313909, 0.931819354020054, 0.9974582075478403, 0.7840162105401284, 0.9957680482107625, 0.9900009060561337, 0.9999979834986952, 0.9954396089346599, 0.9994310630741867, 0.6503927148854036, 0.9997984814146545, 0.9713273357957765, 0.9133605110855859, 0.3402524591139963, 0.9573470119270406, 0.9995932743801684, 0.9991869390941214, 0.8399356673169187, 0.9778443227810774, 0.5158570117447909, 0.8773136659218499, 0.9958471039589165, 0.9952575879626646, 0.9760084640034121, 0.8773136659218499, 0.952390335168311, 0.7336069426759364, 0.9929578429501581, 0.9993296404891563, 0.9992603445566917, 0.998102689400526, 0.9445498020538647, 0.9737924823997269, 0.8773136659218499, 0.9341436240550757, 0.999831777296637, 0.9019865890767975, 0.9950282529787816, 0.8773136659218499, 0.9961417029651112, 0.5723249962551551, 0.991055776464552, 0.9999573557269738, 0.9898174207079681, 0.9975596031892794, 0.9532807369249616, 0.9957627861298912, 0.9909582617016344, 0.998918938758506, 0.9734636893103032, 0.995207945913694, 0.9992053354821365, 0.35921964899241127, 0.99755925201631, 0.9898631180298675, 0.9344784536642666, 0.982945159090637, 0.9995427354469343, 0.999980144009111, 0.9593181749047185, 0.9974181704612002, 0.9998869286041686, 0.9975295340619308, 0.9989513579016209, 0.995738582145547, 0.9867958106400201, 0.996291966560717, 0.9990003272521119, 0.3479544805335989, 0.9965006790526028, 0.8265004993192787, 0.998628626283161, 0.9968448474522656, 0.9995209191435666, 0.3407847078570482, 0.9956384622360499, 0.9968593808336347, 0.9968461248082127, 0.9947399429136905, 0.9884440600365719, 0.9804860870827986, 0.9773964240292893, 0.6267728365978051, 0.9998268406232008, 0.9990455649326169, 0.9898187321713958, 0.8773136659218499, 0.018901480118827287, 0.8773136659218499, 0.9972123275837647, 0.9974791102463929, 0.9977400567659557, 0.9957693144779273, 0.9864879700949661, 0.9990444306458954, 0.9965402493028955, 0.9651389128181308, 0.9824992590394119, 0.8773136659218499, 0.997497243092689, 0.8773136659218499, 0.9995491788165793, 0.9775967813519617, 0.9999500660595162, 0.9999802603204898, 0.96554059504677, 0.9972082499232586, 0.9750970091635182, 0.9964985118089883, 0.38230948939509657, 0.9535483105379904, 0.9518251725401117, 0.9999205929445348, 0.9987195457508258, 0.9993739951983622, 0.9564103917422719, 0.9983777674281854, 0.99594360277918, 0.9989860268385697, 0.9987422841818583, 0.9994553455865128, 0.3669078465155937, 0.9960147808640334, 0.9994157807536207, 0.9995346771519035, 0.28195362169887533, 0.9878022352058936, 0.061542559232628906, 0.9964113880720487, 0.9925935049124919, 0.9991578588100756, 0.9924225659480508, 0.9915205595187353, 0.9999341228765516, 0.9999708818598635, 0.9997777412368111, 0.9990004046192027, 0.7128320082173081, 0.8418861532878438, 0.9467012820187295, 0.9993853182916322, 0.9995012305244572, 0.999854108855553, 0.03217501469029585, 0.9200305343422474, 0.9809936164863545, 0.9821036750355728, 0.9992440414301017, 0.999748633657993, 0.7211650669144509, 0.8157450479665591, 0.9995024899473843, 0.9482118254030096, 0.9986527698715564, 0.8773136659218499, 0.8773136659218499, 0.9993970267745202, 0.9980651799440403, 0.003049919179744696, 0.9298568367938927, 0.9977907144447107, 0.7116823131464218, 0.9953218629904522, 0.9471081252128194, 0.9989071738104972, 0.9999768397808521, 0.9958555482707966, 0.9990391850460999, 0.9963376257579926, 0.9999857589253671, 0.6714379965576865, 0.9982122875410375, 0.994333893230059, 0.8581754864261776, 0.9863173807142135, 0.9654385330305365, 0.9999936783046868, 0.9983494569214467, 0.9968598209470237, 0.8773136659218499, 0.15100398908341828, 0.9945903556019969, 0.984034178565095, 0.9943023488539632, 0.3169005188296263, 0.9997599447109, 0.9988645695217758, 0.999961217354852, 0.9992404652049527, 0.9607038230077951, 0.9970691512691663, 0.9836372886413537, 0.9646801043045962, 0.9833401051802633, 0.9998995066599278, 0.9902178430124425, 0.8773136659218499, 0.05597161682081612, 0.9925544670807005, 0.613030761433427, 0.9990909353166056, 0.9999999131063897, 0.9999656412058774, 0.9958455739069801, 0.9516524836367654, 0.19987090030875113, 0.8773136659218499, 0.9710277389376378, 0.9996896356350887, 0.9997549915140589, 0.9631855553038565, 0.04819427679864289, 0.9997218079636149, 0.9553512021556644, 0.9983078747512306, 0.9881765860176719, 0.9990387136446174, 0.9989916220728078, 0.5692990135505958, 0.9959666647944915, 0.9879480434425867, 0.3297704238696335, 0.8463472049730648, 0.9990278195371114, 0.08348884043722364, 0.9990220319117791, 0.08983519344271146, 0.9659609394882627, 0.9988819058226126, 0.9998768797980218, 0.24937773600082153, 0.9488559109363082, 0.995813979238193, 0.9990471972590618, 0.9990162250640618, 0.9921991666378072, 0.03389023944637101, 0.9962195283349269, 0.9626736120010331, 0.8773136659218499, 0.9968936318426568, 0.9961466266403245, 0.9999754216245458, 0.9959801859413583, 0.05122232552461912, 0.999392041366773, 0.9931916545004424, 0.9977173612943666, 0.9978854533085432, 0.9999988863448223, 0.9997011572821695, 0.08373000299525343, 0.995672875378316, 0.9909774556078838, 0.9995180571387157, 0.8923783010847085, 0.9999931808091904, 0.9985888994470028, 0.9923723831816812, 0.9962408850322682, 0.9990734483488505, 0.6238764714441392, 0.9998270211408743, 0.031508256262617475, 0.8993805004446267, 0.08406887302039204, 0.2184973232477737, 0.8004790463412851, 0.9999993427497603, 0.9956652087916187, 0.9041873607562478, 0.9999503644913788, 0.4845313111386301, 0.9986825615711045, 0.6067502756190692, 0.9657487097452222, 0.9336918430335321, 0.9749635319186135, 0.9739073460452128, 0.2556969988190566, 0.8773136659218499, 0.9999988446284471, 0.19032947036187756, 0.9885444549348021, 0.9979600886273124, 0.993872721668369, 0.9784238831911252, 0.999821383220041, 0.9939509198059704, 0.4921250923930302, 0.9794157903173789, 0.9982022198117692, 0.9999676266103752, 0.99795347869556, 0.9999559325996571, 0.9997184545834485, 0.9999421768793426, 0.9900033783584465, 0.998642684788392, 0.996684195070872, 0.9310996461369657, 0.866618097056637, 0.9999951997791099, 0.9980825840486225, 0.9993445867095824, 0.4159876483155893, 0.9958493020982198, 0.8472703188789668, 0.9845550481903099, 0.9914681406582367, 0.8723199736381981, 0.8461958024105908, 0.9999989490337643, 0.5362782527151189, 0.9970351809019009, 0.04351843309641811, 0.9999617601965853, 0.9397990576141664, 0.9999576674961735, 0.026939348314084857, 0.9844826596705092, 0.8790559146538712, 0.9982928153657232, 0.9018440292445383, 0.9894789588762894, 0.8773136659218499, 0.9991626186297101, 0.9992114601991866, 0.99928308972804, 0.9643585534645671, 0.9226555501701, 0.9184922201758772, 0.9521020888285517, 0.9999910198331652, 0.9907008219944027, 0.0904436073482427, 0.9999441247551238, 0.9544002895912733, 0.9948469597713683, 0.9998635631078356, 0.9979663504619866, 0.8385743270268597, 0.82343250891776, 0.999154915267512, 0.9971496198241666, 0.9974821049974224, 0.9990874902458098, 0.8773136659218499, 0.991274546989794, 0.9995013537230197, 0.9995591131562881, 0.9606185008226082, 0.7569376772390478, 0.9794018567179364, 0.9684150657502869, 0.9996671354650011, 0.8773136659218499, 0.9959311612022509, 0.9980726755762852, 0.9949274428664506, 0.9797358297403982, 0.9889651982184886, 0.9974864340364755, 0.18693179964818735, 0.9899299066841507, 0.9989883299297853, 0.9992654352455481, 0.9959544929166043, 0.3630210901724762, 0.9999987242146073, 0.9704308760093526, 0.9380712886184233, 0.059052580407700825, 0.9999885742898845, 0.8386041070967807, 0.961345428391966, 0.9933085243070895, 0.9985359744717431, 0.9973471467175777, 0.8773136659218499, 0.9648937613950938]\n",
      "0.9376004575323043\n"
     ]
    }
   ],
   "source": [
    "pred_lr = lr.predict_proba(X_test)[:,1]\n",
    "print(list(pred_lr))\n",
    "fpr_lr,tpr_lr,_ = roc_curve(y_test,pred_lr)\n",
    "roc_auc_lr = auc(fpr_lr,tpr_lr)\n",
    "print(roc_auc_lr)"
   ]
  },
  {
   "cell_type": "markdown",
   "id": "5fa4b36b",
   "metadata": {},
   "source": [
    "# Task 2\n",
    "\n",
    "In the Gridsearch function, we have an array of different values as the hyperparameter of our model training.\n",
    "We also have a function called ```train_and_evaluate``` which takes as input one of those values from the array and returns the accuracy score of the model based on that value\n",
    "\n",
    "We know the following insights for the array:\n",
    "* One of those values would yield the highest accuracy score. \n",
    "* The values in the array are sorted\n",
    "* We already know that the if we use the array's values from the order, the model's accuracy will start increasing up to a certain value and then it will start decreasing again\n",
    "    * You can find an example in ```cell number 18``` where we run this snippet ```print(grid_search)```\n",
    "* There exists some ```index``` with ```0 < i < arr.length - 1``` such that:\n",
    "    * ```arr[0] < arr[1] < ... < arr[i - 1] < arr[i]```\n",
    "    * ```arr[i] > arr[i + 1] > ... > arr[arr.length - 1]```\n",
    "\n",
    "<b>Can you think of an algorithm that will identify this value without having to run the whole array and reduce the complexity of the current algorithm?</b>\n",
    "\n",
    "* Please implement the following function bellow ]```find_the_best_c_value_optimised```.\n",
    "* The output of your function should be the same as the the results of ``` find_the_best_c_value```, but with fewer ittirations\n",
    "\n",
    "<b>Please remember you are tasked to improve the logic of looping through the array. Do not spend time improving the speed of the Logistic Regression model</b>"
   ]
  },
  {
   "cell_type": "markdown",
   "id": "9daed5a1",
   "metadata": {},
   "source": [
    "## Grid Search"
   ]
  },
  {
   "cell_type": "code",
   "execution_count": 16,
   "id": "ecec1e7e",
   "metadata": {},
   "outputs": [],
   "source": [
    "import tqdm \n",
    "import numpy as np\n",
    "\n",
    "def grid_search(X_train,y_train,X_test,y_test )-> pd.DataFrame:\n",
    "\n",
    "    \"\"\"\n",
    "    \"\"\"\n",
    "\n",
    "    grid = {}\n",
    "    C = [0.001,0.005, 0.01, 0.05, 0.1, 0.25, 0.5, 1, 5, 10, 15, 25, 50, 100, 1000]\n",
    "    \n",
    "    model_results = {\n",
    "                     'C': [],\n",
    "                    'roc':[]\n",
    "                    }\n",
    "\n",
    "    total_combinations = len(C)\n",
    "    print(f\"Total Models to grid search: {total_combinations}\")\n",
    "\n",
    "    with tqdm.tqdm(total=total_combinations)as pbar:\n",
    "\n",
    "        # iterate through number of topics\n",
    "        for c in C:\n",
    "\n",
    "            lr = LogisticRegression(C=c)\n",
    "            lr.fit(X_train,y_train)\n",
    "\n",
    "            pred_lr = lr.predict_proba(X_test)[:,1]\n",
    "            fpr_lr,tpr_lr,_ = roc_curve(y_test,pred_lr)\n",
    "            roc_auc_lr = auc(fpr_lr,tpr_lr)\n",
    "\n",
    "            # Save the model results\n",
    "            model_results['C'].append(c)\n",
    "            model_results['roc'].append(roc_auc_lr)\n",
    "            pbar.update(1)\n",
    "        \n",
    "        grid_search_results = pd.DataFrame(model_results)\n",
    "        pbar.close()\n",
    "    \n",
    "        return grid_search_results"
   ]
  },
  {
   "cell_type": "code",
   "execution_count": 17,
   "id": "9494dbd5",
   "metadata": {},
   "outputs": [
    {
     "name": "stdout",
     "output_type": "stream",
     "text": [
      "Total Models to grid search: 15\n"
     ]
    },
    {
     "name": "stderr",
     "output_type": "stream",
     "text": [
      "100%|██████████| 15/15 [00:10<00:00,  1.47it/s]\n"
     ]
    }
   ],
   "source": [
    "grid_search = grid_search(X_train,y_train,X_test,y_test)"
   ]
  },
  {
   "cell_type": "code",
   "execution_count": 18,
   "id": "d4529348",
   "metadata": {},
   "outputs": [
    {
     "name": "stdout",
     "output_type": "stream",
     "text": [
      "           C       roc\n",
      "0      0.001  0.880384\n",
      "1      0.005  0.909997\n",
      "2      0.010  0.920672\n",
      "3      0.050  0.936956\n",
      "4      0.100  0.940044\n",
      "5      0.250  0.941380\n",
      "6      0.500  0.940255\n",
      "7      1.000  0.937600\n",
      "8      5.000  0.924823\n",
      "9     10.000  0.917832\n",
      "10    15.000  0.914111\n",
      "11    25.000  0.909872\n",
      "12    50.000  0.904416\n",
      "13   100.000  0.900607\n",
      "14  1000.000  0.893108\n"
     ]
    }
   ],
   "source": [
    "print(grid_search)"
   ]
  },
  {
   "cell_type": "code",
   "execution_count": 19,
   "id": "9d8a9fd8",
   "metadata": {},
   "outputs": [],
   "source": [
    "def train_and_evaluate(hyperparameter_value):\n",
    "    c = hyperparameter_value\n",
    "    lr = LogisticRegression(C=c)\n",
    "    lr.fit(X_train,y_train)\n",
    "\n",
    "    pred_lr = lr.predict_proba(X_test)[:,1]\n",
    "    fpr_lr,tpr_lr,_ = roc_curve(y_test,pred_lr)\n",
    "    roc_auc_lr = auc(fpr_lr,tpr_lr)\n",
    "\n",
    "    return roc_auc_lr\n",
    "\n",
    "def find_the_best_c_value(c_array):\n",
    "    number_of_iterations = 0\n",
    "    model_score = []\n",
    "    \n",
    "    for c in c_array:\n",
    "        number_of_iterations +=1\n",
    "        score = train_and_evaluate(c)\n",
    "        model_score.append({'c':c, 'score':score})\n",
    "        \n",
    "    \n",
    "    best_c_value = max(model_score, key=lambda x:x['score'])\n",
    "    print(f\"Best C values is: {best_c_value['c']} with score {best_c_value['score']}\")\n",
    "    print(f\"Number of iterations: {number_of_iterations}\")\n",
    "    "
   ]
  },
  {
   "cell_type": "code",
   "execution_count": 20,
   "id": "25555159",
   "metadata": {},
   "outputs": [],
   "source": [
    "example_array_1 = [0.001,0.005, 0.01, 0.05, 0.1, 0.25, 0.5, 1, 5, 10, 15, 25, 50, 100, 1000]\n",
    "example_array_2 = [1,2,3,4,5,6,7,8,9,10]\n",
    "example_array_3 = list(np.linspace(start=0.001, stop = 0.1, num=100 ))"
   ]
  },
  {
   "cell_type": "code",
   "execution_count": 21,
   "id": "2a2190b1",
   "metadata": {},
   "outputs": [
    {
     "name": "stdout",
     "output_type": "stream",
     "text": [
      "Best C values is: 0.25 with score 0.9413798650041405\n",
      "Number of iterations: 15\n",
      "-------------------------------\n",
      "Best C values is: 1 with score 0.9376004575323043\n",
      "Number of iterations: 10\n",
      "-------------------------------\n",
      "Best C values is: 0.1 with score 0.9400442042929399\n",
      "Number of iterations: 100\n",
      "-------------------------------\n"
     ]
    }
   ],
   "source": [
    "find_the_best_c_value(example_array_1)\n",
    "print('-------------------------------')\n",
    "find_the_best_c_value(example_array_2)\n",
    "print('-------------------------------')\n",
    "find_the_best_c_value(example_array_3)\n",
    "print('-------------------------------')"
   ]
  },
  {
   "cell_type": "code",
   "execution_count": 22,
   "id": "2b24f95b",
   "metadata": {},
   "outputs": [],
   "source": [
    "def find_the_best_c_value_optimised(c_array):\n",
    "    number_of_iterations = 0\n",
    "    previous_score = 0\n",
    "\n",
    "    for index, c_value in enumerate(c_array):\n",
    "        number_of_iterations +=1\n",
    "        if index == 0:\n",
    "            previous_score = train_and_evaluate(c_value)\n",
    "        else:\n",
    "            current_score = train_and_evaluate(c_value)\n",
    "            if current_score < previous_score:\n",
    "                print(f\"Best C values is: {c_array[index - 1]} with score {previous_score}\")\n",
    "                print(f\"Number of iterations: {number_of_iterations}\")\n",
    "                break\n",
    "\n",
    "            previous_score = current_score\n"
   ]
  },
  {
   "cell_type": "code",
   "execution_count": 23,
   "id": "a1c73569",
   "metadata": {},
   "outputs": [
    {
     "name": "stdout",
     "output_type": "stream",
     "text": [
      "Best C values is: 0.25 with score 0.9413798650041405\n",
      "Number of iterations: 7\n",
      "-------------------------------\n",
      "Best C values is: 1 with score 0.9376004575323043\n",
      "Number of iterations: 2\n",
      "-------------------------------\n",
      "Best C values is: 0.055 with score 0.9375956915708012\n",
      "Number of iterations: 56\n",
      "-------------------------------\n"
     ]
    }
   ],
   "source": [
    "find_the_best_c_value_optimised(example_array_1)\n",
    "print('-------------------------------')\n",
    "find_the_best_c_value_optimised(example_array_2)\n",
    "print('-------------------------------')\n",
    "find_the_best_c_value_optimised(example_array_3)\n",
    "print('-------------------------------')"
   ]
  },
  {
   "cell_type": "markdown",
   "id": "e4d8b1e8",
   "metadata": {},
   "source": [
    "### Export Model"
   ]
  },
  {
   "cell_type": "code",
   "execution_count": 24,
   "id": "e5e3f09a",
   "metadata": {},
   "outputs": [],
   "source": [
    "import pickle\n",
    "\n",
    "# save\n",
    "with open('model.pkl','wb') as f:\n",
    "    pickle.dump(lr,f)"
   ]
  },
  {
   "cell_type": "code",
   "execution_count": null,
   "id": "afbb869e",
   "metadata": {},
   "outputs": [],
   "source": []
  }
 ],
 "metadata": {
  "kernelspec": {
   "display_name": "Python 3 (ipykernel)",
   "language": "python",
   "name": "python3"
  },
  "language_info": {
   "codemirror_mode": {
    "name": "ipython",
    "version": 3
   },
   "file_extension": ".py",
   "mimetype": "text/x-python",
   "name": "python",
   "nbconvert_exporter": "python",
   "pygments_lexer": "ipython3",
   "version": "3.9.13"
  }
 },
 "nbformat": 4,
 "nbformat_minor": 5
}
